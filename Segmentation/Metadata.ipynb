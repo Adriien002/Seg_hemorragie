{
 "cells": [
  {
   "cell_type": "markdown",
   "metadata": {},
   "source": [
    "## DATASET EXPLORATION\n"
   ]
  },
  {
   "cell_type": "code",
   "execution_count": null,
   "metadata": {},
   "outputs": [],
   "source": []
  },
  {
   "cell_type": "markdown",
   "metadata": {},
   "source": [
    "IMPORTS"
   ]
  },
  {
   "cell_type": "code",
   "execution_count": 2,
   "metadata": {},
   "outputs": [
    {
     "name": "stderr",
     "output_type": "stream",
     "text": [
      "/home/tibia/Projet_Hemorragie/hemorragie-env/lib/python3.12/site-packages/tqdm/auto.py:21: TqdmWarning: IProgress not found. Please update jupyter and ipywidgets. See https://ipywidgets.readthedocs.io/en/stable/user_install.html\n",
      "  from .autonotebook import tqdm as notebook_tqdm\n"
     ]
    }
   ],
   "source": [
    "\n",
    "import os\n",
    "import pprint\n",
    "from monai.data import DataLoader, PersistentDataset\n",
    "import monai.transforms as T\n",
    "\n",
    "# Configuration\n",
    "DATASET_DIR = '/home/tibia/Projet_Hemorragie/mbh_seg/nii'\n",
    "SAVE_DIR = '/home/tibia/Projet_Hemorragie/test_1/what'\n",
    "os.makedirs(SAVE_DIR, exist_ok=True)\n"
   ]
  },
  {
   "cell_type": "code",
   "execution_count": 4,
   "metadata": {},
   "outputs": [
    {
     "name": "stdout",
     "output_type": "stream",
     "text": [
      "Nombre de fichiers de test: 155\n",
      "Premier fichier: {'image': '/home/tibia/Projet_Hemorragie/mbh_seg/nii/train/img/ID_0237f3c9_ID_40015688b9.nii.gz', 'seg': '/home/tibia/Projet_Hemorragie/mbh_seg/nii/train/seg/ID_0237f3c9_ID_40015688b9.nii.gz'}\n"
     ]
    }
   ],
   "source": [
    "def get_data_files(img_dir, seg_dir):\n",
    "    images = sorted([os.path.join(img_dir, f) for f in os.listdir(img_dir) if f.endswith('.nii.gz')])\n",
    "    labels = sorted([os.path.join(seg_dir, f) for f in os.listdir(seg_dir) if f.endswith('.nii.gz')])\n",
    "    return [{\"image\": img, \"seg\": lbl} for img, lbl in zip(images, labels)]\n",
    "\n",
    "test_files = get_data_files(f\"{DATASET_DIR}/train/img\", f\"{DATASET_DIR}/train/seg\")\n",
    "print(f\"Nombre de fichiers de test: {len(test_files)}\")\n",
    "print(f\"Premier fichier: {test_files[0]}\")"
   ]
  },
  {
   "cell_type": "markdown",
   "metadata": {},
   "source": [
    "Création données de tests:"
   ]
  },
  {
   "cell_type": "code",
   "execution_count": 3,
   "metadata": {},
   "outputs": [],
   "source": [
    "# Transforms\n",
    "test_transforms = T.Compose([\n",
    "    T.LoadImaged(keys=[\"image\", \"seg\"]),\n",
    "])\n",
    "\n",
    "# Dataset / DataLoader\n",
    "test_dataset = PersistentDataset(\n",
    "    test_files,\n",
    "    transform=test_transforms,\n",
    "    cache_dir=os.path.join(SAVE_DIR, \"cache_train\")\n",
    ")\n",
    "\n",
    "test_loader = DataLoader(\n",
    "    test_dataset,\n",
    "    batch_size=1,\n",
    "    shuffle=False,\n",
    "    num_workers=1  \n",
    ")\n"
   ]
  },
  {
   "cell_type": "code",
   "execution_count": 23,
   "metadata": {},
   "outputs": [
    {
     "name": "stdout",
     "output_type": "stream",
     "text": [
      "\n",
      "============================================================\n",
      "EXPLORATION DES MÉTADONNÉES\n",
      "============================================================\n"
     ]
    },
    {
     "name": "stderr",
     "output_type": "stream",
     "text": [
      "/home/tibia/Projet_Hemorragie/hemorragie-env/lib/python3.12/site-packages/monai/data/dataset.py:374: FutureWarning: You are using `torch.load` with `weights_only=False` (the current default value), which uses the default pickle module implicitly. It is possible to construct malicious pickle data which will execute arbitrary code during unpickling (See https://github.com/pytorch/pytorch/blob/main/SECURITY.md#untrusted-models for more details). In a future release, the default value for `weights_only` will be flipped to `True`. This limits the functions that could be executed during unpickling. Arbitrary objects will no longer be allowed to be loaded via this mode unless they are explicitly allowlisted by the user via `torch.serialization.add_safe_globals`. We recommend you start setting `weights_only=True` for any use case where you don't have full control of the loaded file. Please open an issue on GitHub for any issues related to this experimental feature.\n",
      "  return torch.load(hashfile)\n"
     ]
    },
    {
     "name": "stdout",
     "output_type": "stream",
     "text": [
      "\n",
      "--- BATCH 0 ---\n",
      "keys in batch ['image', 'seg']\n",
      "\n",
      "[image]:\n",
      "  Type: <class 'monai.data.meta_tensor.MetaTensor'>\n",
      "  Shape: torch.Size([1, 512, 512, 32])\n",
      "  Dtype: torch.float32\n",
      "  Métadonnées disponibles: ['scl_slope', 'qform_code', 'quatern_b', 'qoffset_x', 'filename_or_obj', 'extents', 'cal_max', 'dim', original_affine, 'qoffset_z', 'sizeof_hdr', 'srow_z', 'srow_y', spatial_shape, 'slice_end', 'glmin', 'as_closest_canonical', 'quatern_d', 'intent_code', 'pixdim', 'toffset', 'dim_info', 'intent_p2', 'session_error', 'slice_start', affine, 'datatype', 'glmax', 'intent_p3', space, 'qoffset_y', 'slice_duration', 'bitpix', 'xyzt_units', 'slice_code', 'sform_code', 'srow_x', 'intent_p1', original_channel_dim, 'vox_offset', 'scl_inter', 'quatern_c', 'cal_min']\n",
      "\n",
      "[seg]:\n",
      "  Type: <class 'monai.data.meta_tensor.MetaTensor'>\n",
      "  Shape: torch.Size([1, 512, 512, 32])\n",
      "  Dtype: torch.float32\n",
      "  Métadonnées disponibles: ['scl_slope', 'qform_code', 'quatern_b', 'qoffset_x', 'filename_or_obj', 'extents', 'cal_max', 'dim', original_affine, 'qoffset_z', 'sizeof_hdr', 'srow_z', 'srow_y', spatial_shape, 'slice_end', 'glmin', 'as_closest_canonical', 'quatern_d', 'intent_code', 'pixdim', 'toffset', 'dim_info', 'intent_p2', 'session_error', 'slice_start', affine, 'datatype', 'glmax', 'intent_p3', space, 'qoffset_y', 'slice_duration', 'bitpix', 'xyzt_units', 'slice_code', 'sform_code', 'srow_x', 'intent_p1', original_channel_dim, 'vox_offset', 'scl_inter', 'quatern_c', 'cal_min']\n"
     ]
    }
   ],
   "source": [
    "print(\"\\n\" + \"=\"*60)\n",
    "print(\"EXPLORATION DES MÉTADONNÉES\")\n",
    "print(\"=\"*60)\n",
    "\n",
    "\n",
    "for i, batch in enumerate(test_loader):\n",
    "    print(f\"\\n--- BATCH {i} ---\")\n",
    "    print(f\"keys in batch {list(batch.keys())}\")\n",
    " \n",
    "    for key, value in batch.items():\n",
    "        print(f\"\\n[{key}]:\")\n",
    "        print(f\"  Type: {type(value)}\")\n",
    "\n",
    "        if hasattr(value, 'shape'):\n",
    "            print(f\"  Shape: {value.shape}\")\n",
    "        \n",
    "        if hasattr(value, 'dtype'):\n",
    "            print(f\"  Dtype: {value.dtype}\")\n",
    "\n",
    "        if isinstance(value, dict):\n",
    "            print(f\"Dict \")\n",
    "\n",
    "        elif hasattr(value, 'meta') and hasattr(value.meta, 'keys'):\n",
    "            print(f\"  Métadonnées disponibles: {list(value.meta.keys())}\")\n",
    "\n",
    "        elif hasattr(value, '__dict__'):\n",
    "            \n",
    "            attrs = [attr for attr in dir(value) if not attr.startswith('_')]\n",
    "            if attrs:\n",
    "                print(f\"  Attributs disponibles: {attrs}\")\n",
    "    \n",
    "            \n",
    "        \n",
    "\n",
    "\n",
    "\n",
    "\n",
    "\n",
    "\n",
    "\n",
    "    if i == 0:\n",
    "        break"
   ]
  },
  {
   "cell_type": "code",
   "execution_count": 24,
   "metadata": {},
   "outputs": [
    {
     "name": "stderr",
     "output_type": "stream",
     "text": [
      "/home/tibia/Projet_Hemorragie/hemorragie-env/lib/python3.12/site-packages/monai/data/dataset.py:374: FutureWarning: You are using `torch.load` with `weights_only=False` (the current default value), which uses the default pickle module implicitly. It is possible to construct malicious pickle data which will execute arbitrary code during unpickling (See https://github.com/pytorch/pytorch/blob/main/SECURITY.md#untrusted-models for more details). In a future release, the default value for `weights_only` will be flipped to `True`. This limits the functions that could be executed during unpickling. Arbitrary objects will no longer be allowed to be loaded via this mode unless they are explicitly allowlisted by the user via `torch.serialization.add_safe_globals`. We recommend you start setting `weights_only=True` for any use case where you don't have full control of the loaded file. Please open an issue on GitHub for any issues related to this experimental feature.\n",
      "  return torch.load(hashfile)\n"
     ]
    },
    {
     "name": "stdout",
     "output_type": "stream",
     "text": [
      "Filename image: ['/home/tibia/Projet_Hemorragie/mbh_seg/nii/test/img/ID_0219ef88_ID_e5c1a31210.nii.gz']\n",
      "Filename seg: ['/home/tibia/Projet_Hemorragie/mbh_seg/nii/test/seg/ID_0219ef88_ID_e5c1a31210.nii.gz']\n",
      "Type filename: <class 'list'>\n"
     ]
    }
   ],
   "source": [
    "for i, batch in enumerate(test_loader):\n",
    "    print(f\"Filename image: {batch['image'].meta['filename_or_obj']}\")\n",
    "    print(f\"Filename seg: {batch['seg'].meta['filename_or_obj']}\")\n",
    "    print(f\"Type filename: {type(batch['image'].meta['filename_or_obj'])}\")\n",
    "    if i == 0:\n",
    "        break"
   ]
  },
  {
   "cell_type": "markdown",
   "metadata": {},
   "source": [
    "Transfert learning"
   ]
  },
  {
   "cell_type": "code",
   "execution_count": 3,
   "metadata": {},
   "outputs": [],
   "source": [
    "DATASET_DIR = '/home/tibia/Projet_Hemorragie/Seg_hemorragie/split_MONAI'\n",
    "SAVE_DIR = \"/home/tibia/Projet_Hemorragie/trleaning\"\n",
    "CHECKPOINT_PATH = \"/home/tibia/Projet_Hemorragie/v1_log_test/lightning_logs/version_0/checkpoints/epoch=999-step=156000.ckpt\"\n",
    "os.makedirs(SAVE_DIR, exist_ok=True)\n"
   ]
  },
  {
   "cell_type": "code",
   "execution_count": null,
   "metadata": {},
   "outputs": [
    {
     "name": "stdout",
     "output_type": "stream",
     "text": [
      "Checkpoint keys: ['epoch', 'global_step', 'pytorch-lightning_version', 'state_dict', 'loops', 'callbacks', 'optimizer_states', 'lr_schedulers']\n",
      "number of epochs: 999\n",
      "number of steps: 156000\n",
      "model state dict keys: odict_keys(['model.model.0.conv.unit0.conv.weight', 'model.model.0.conv.unit0.conv.bias', 'model.model.0.conv.unit0.adn.A.weight', 'model.model.0.conv.unit1.conv.weight', 'model.model.0.conv.unit1.conv.bias', 'model.model.0.conv.unit1.adn.A.weight', 'model.model.0.residual.weight', 'model.model.0.residual.bias', 'model.model.1.submodule.0.conv.unit0.conv.weight', 'model.model.1.submodule.0.conv.unit0.conv.bias', 'model.model.1.submodule.0.conv.unit0.adn.A.weight', 'model.model.1.submodule.0.conv.unit1.conv.weight', 'model.model.1.submodule.0.conv.unit1.conv.bias', 'model.model.1.submodule.0.conv.unit1.adn.A.weight', 'model.model.1.submodule.0.residual.weight', 'model.model.1.submodule.0.residual.bias', 'model.model.1.submodule.1.submodule.0.conv.unit0.conv.weight', 'model.model.1.submodule.1.submodule.0.conv.unit0.conv.bias', 'model.model.1.submodule.1.submodule.0.conv.unit0.adn.A.weight', 'model.model.1.submodule.1.submodule.0.conv.unit1.conv.weight', 'model.model.1.submodule.1.submodule.0.conv.unit1.conv.bias', 'model.model.1.submodule.1.submodule.0.conv.unit1.adn.A.weight', 'model.model.1.submodule.1.submodule.0.residual.weight', 'model.model.1.submodule.1.submodule.0.residual.bias', 'model.model.1.submodule.1.submodule.1.submodule.0.conv.unit0.conv.weight', 'model.model.1.submodule.1.submodule.1.submodule.0.conv.unit0.conv.bias', 'model.model.1.submodule.1.submodule.1.submodule.0.conv.unit0.adn.A.weight', 'model.model.1.submodule.1.submodule.1.submodule.0.conv.unit1.conv.weight', 'model.model.1.submodule.1.submodule.1.submodule.0.conv.unit1.conv.bias', 'model.model.1.submodule.1.submodule.1.submodule.0.conv.unit1.adn.A.weight', 'model.model.1.submodule.1.submodule.1.submodule.0.residual.weight', 'model.model.1.submodule.1.submodule.1.submodule.0.residual.bias', 'model.model.1.submodule.1.submodule.1.submodule.1.submodule.0.conv.unit0.conv.weight', 'model.model.1.submodule.1.submodule.1.submodule.1.submodule.0.conv.unit0.conv.bias', 'model.model.1.submodule.1.submodule.1.submodule.1.submodule.0.conv.unit0.adn.A.weight', 'model.model.1.submodule.1.submodule.1.submodule.1.submodule.0.conv.unit1.conv.weight', 'model.model.1.submodule.1.submodule.1.submodule.1.submodule.0.conv.unit1.conv.bias', 'model.model.1.submodule.1.submodule.1.submodule.1.submodule.0.conv.unit1.adn.A.weight', 'model.model.1.submodule.1.submodule.1.submodule.1.submodule.0.residual.weight', 'model.model.1.submodule.1.submodule.1.submodule.1.submodule.0.residual.bias', 'model.model.1.submodule.1.submodule.1.submodule.1.submodule.1.submodule.conv.unit0.conv.weight', 'model.model.1.submodule.1.submodule.1.submodule.1.submodule.1.submodule.conv.unit0.conv.bias', 'model.model.1.submodule.1.submodule.1.submodule.1.submodule.1.submodule.conv.unit0.adn.A.weight', 'model.model.1.submodule.1.submodule.1.submodule.1.submodule.1.submodule.conv.unit1.conv.weight', 'model.model.1.submodule.1.submodule.1.submodule.1.submodule.1.submodule.conv.unit1.conv.bias', 'model.model.1.submodule.1.submodule.1.submodule.1.submodule.1.submodule.conv.unit1.adn.A.weight', 'model.model.1.submodule.1.submodule.1.submodule.1.submodule.2.0.conv.weight', 'model.model.1.submodule.1.submodule.1.submodule.1.submodule.2.0.conv.bias', 'model.model.1.submodule.1.submodule.1.submodule.1.submodule.2.0.adn.A.weight', 'model.model.1.submodule.1.submodule.1.submodule.1.submodule.2.1.conv.unit0.conv.weight', 'model.model.1.submodule.1.submodule.1.submodule.1.submodule.2.1.conv.unit0.conv.bias', 'model.model.1.submodule.1.submodule.1.submodule.1.submodule.2.1.conv.unit0.adn.A.weight', 'model.model.1.submodule.1.submodule.1.submodule.2.0.conv.weight', 'model.model.1.submodule.1.submodule.1.submodule.2.0.conv.bias', 'model.model.1.submodule.1.submodule.1.submodule.2.0.adn.A.weight', 'model.model.1.submodule.1.submodule.1.submodule.2.1.conv.unit0.conv.weight', 'model.model.1.submodule.1.submodule.1.submodule.2.1.conv.unit0.conv.bias', 'model.model.1.submodule.1.submodule.1.submodule.2.1.conv.unit0.adn.A.weight', 'model.model.1.submodule.1.submodule.2.0.conv.weight', 'model.model.1.submodule.1.submodule.2.0.conv.bias', 'model.model.1.submodule.1.submodule.2.0.adn.A.weight', 'model.model.1.submodule.1.submodule.2.1.conv.unit0.conv.weight', 'model.model.1.submodule.1.submodule.2.1.conv.unit0.conv.bias', 'model.model.1.submodule.1.submodule.2.1.conv.unit0.adn.A.weight', 'model.model.1.submodule.2.0.conv.weight', 'model.model.1.submodule.2.0.conv.bias', 'model.model.1.submodule.2.0.adn.A.weight', 'model.model.1.submodule.2.1.conv.unit0.conv.weight', 'model.model.1.submodule.2.1.conv.unit0.conv.bias', 'model.model.1.submodule.2.1.conv.unit0.adn.A.weight', 'model.model.2.0.conv.weight', 'model.model.2.0.conv.bias', 'model.model.2.0.adn.A.weight', 'model.model.2.1.conv.unit0.conv.weight', 'model.model.2.1.conv.unit0.conv.bias'])\n",
      "['model.model.1.submodule.2.0.conv.bias', 'model.model.1.submodule.2.0.adn.A.weight', 'model.model.1.submodule.2.1.conv.unit0.conv.weight', 'model.model.1.submodule.2.1.conv.unit0.conv.bias', 'model.model.1.submodule.2.1.conv.unit0.adn.A.weight', 'model.model.2.0.conv.weight', 'model.model.2.0.conv.bias', 'model.model.2.0.adn.A.weight', 'model.model.2.1.conv.unit0.conv.weight', 'model.model.2.1.conv.unit0.conv.bias']\n"
     ]
    }
   ],
   "source": [
    "import torch\n",
    "from monai.networks.nets import UNet\n",
    "import pytorch_lightning as pl\n",
    "\n",
    "checkpoint = torch.load(CHECKPOINT_PATH,weights_only=True)\n",
    "print(f\"Checkpoint keys: {list(checkpoint.keys())}\")\n",
    "print(f\"number of epochs: {checkpoint['epoch']}\")  \n",
    "print(f\"number of steps: {checkpoint['global_step']}\")  \n",
    "print(f\"model state dict keys: {(checkpoint['state_dict'].keys())}\")\n",
    "# afficher un poids\n",
    "old_state_dict = checkpoint[\"state_dict\"]\n",
    "\n",
    "\n",
    "class HemorrhageModel(pl.LightningModule):\n",
    "    def __init__(self, num_steps):\n",
    "        super().__init__()\n",
    "        self.num_steps = num_steps\n",
    "        self.model = UNet(\n",
    "            spatial_dims=3,\n",
    "            in_channels=1,\n",
    "            out_channels=6,\n",
    "            channels=(32, 64, 128, 256, 320, 320),\n",
    "            strides=(2, 2, 2, 2, 2),\n",
    "            num_res_units=2,\n",
    "        )\n",
    "\n",
    "new_model= HemorrhageModel(num_steps=156000)\n",
    "new_state_dict = new_model.state_dict()  # Obtenir le state_dict du nouveau modèle\n",
    "for name, param in old_state_dict.items():\n",
    "    if name in new_state_dict:\n",
    "        if param.shape == new_state_dict[name].shape:\n",
    "            new_state_dict[name].copy_(param)\n",
    "            print(f\"Poids transférés pour la couche : {name}\")\n",
    "        else:\n",
    "            print(f\"Poids non transférés pour {name} (dimensions incompatibles : {param.shape} vs {new_state_dict[name].shape})\")\n",
    "    else:\n",
    "        print(f\"Poids {name} non trouvé dans le nouveau modèle\")\n",
    "      \n",
    "\n",
    "print(list(old_state_dict.keys())[-10:])"
   ]
  }
 ],
 "metadata": {
  "kernelspec": {
   "display_name": "hemorragie-env",
   "language": "python",
   "name": "python3"
  },
  "language_info": {
   "codemirror_mode": {
    "name": "ipython",
    "version": 3
   },
   "file_extension": ".py",
   "mimetype": "text/x-python",
   "name": "python",
   "nbconvert_exporter": "python",
   "pygments_lexer": "ipython3",
   "version": "3.12.9"
  }
 },
 "nbformat": 4,
 "nbformat_minor": 2
}
