{
 "cells": [
  {
   "cell_type": "markdown",
   "id": "6e89f6d9-14ec-4f70-a2fa-8d3fdd0cb35f",
   "metadata": {},
   "source": [
    "# ICH V4 manips\n"
   ]
  },
  {
   "cell_type": "markdown",
   "id": "45ba9e4e-bdd9-40f1-9a14-52ea41a4ac97",
   "metadata": {},
   "source": [
    "## import + bases\n"
   ]
  },
  {
   "cell_type": "code",
   "execution_count": 1,
   "id": "21351e139a8cf2c0",
   "metadata": {
    "ExecuteTime": {
     "end_time": "2025-03-18T15:50:52.934821Z",
     "start_time": "2025-03-18T15:50:52.930986Z"
    }
   },
   "outputs": [
    {
     "name": "stdout",
     "output_type": "stream",
     "text": [
      "Répertoire de travail actuel : /store/home/tibia/Projet_Hemorragie/Seg_hemorragie/splitv2/ich_seg_v4_adrien\n",
      "['.git', 'pipeline.py', 'inference_mbh.py', 'README.md', 'pipeline_v4', 'splitv2', 'seg_ICH.py']\n"
     ]
    }
   ],
   "source": [
    "\n",
    "import nibabel as nib\n",
    "import numpy as np\n",
    "import os\n",
    "\n",
    "\n",
    "%matplotlib inline\n",
    "import matplotlib.pyplot as plt\n",
    "\n",
    "import os\n",
    "print(\"Répertoire de travail actuel :\", os.getcwd())\n",
    "print(os.listdir(\"../..\")) #premier test\n"
   ]
  },
  {
   "cell_type": "code",
   "execution_count": null,
   "id": "ce85b9dc8280a1c0",
   "metadata": {
    "ExecuteTime": {
     "end_time": "2025-03-18T15:52:55.121020Z",
     "start_time": "2025-03-18T15:52:55.117213Z"
    }
   },
   "outputs": [
    {
     "name": "stdout",
     "output_type": "stream",
     "text": [
      "nombre de fichiers dans /home/tibia/Projet_Hemorragie/Seg_hemorragie/splitv2/ich_seg_v4_adrien/imagesTr= 341\n",
      "-------------------------------\n",
      "nombre de fichiers dans /home/tibia/Projet_Hemorragie/Seg_hemorragie/splitv2/ich_seg_v4_adrien/labelsTr= 341\n",
      "-------------------------------\n",
      "nombre de fichiers dans /home/tibia/Projet_Hemorragie/Seg_hemorragie/splitv2/ich_seg_v4_adrien/imagesTs= 18\n",
      "-------------------------------\n",
      "nombre de fichiers dans /home/tibia/Projet_Hemorragie/Seg_hemorragie/splitv2/ich_seg_v4_adrien/labelsTs= 18\n",
      "-------------------------------\n"
     ]
    }
   ],
   "source": [
    "\n",
    "root_folder= '/home/tibia/Projet_Hemorragie/Seg_hemorragie/splitv2/ich_seg_v4_adrien'\n",
    "\n",
    "for subfolder in ['imagesTr','labelsTr']:\n",
    "    folder_path=os.path.join(root_folder,subfolder)\n",
    "    files=os.listdir(folder_path)\n",
    "    print(f'nombre de fichiers dans {folder_path}= {len(files)}')\n",
    "    print('-------------------------------')\n",
    "\n",
    "for subfolder in ['imagesTs','labelsTs']:\n",
    "    folder_path=os.path.join(root_folder,subfolder)\n",
    "    files=os.listdir(folder_path)\n",
    "    print(f'nombre de fichiers dans {folder_path}= {len(files)}')\n",
    "    print('-------------------------------')\n"
   ]
  },
  {
   "cell_type": "markdown",
   "id": "4e994424",
   "metadata": {},
   "source": [
    "## Conversion nnUNet"
   ]
  },
  {
   "cell_type": "code",
   "execution_count": null,
   "id": "5d540f62573822d5",
   "metadata": {
    "ExecuteTime": {
     "end_time": "2025-03-21T02:54:53.977558Z",
     "start_time": "2025-03-21T02:54:53.956814Z"
    }
   },
   "outputs": [
    {
     "name": "stdout",
     "output_type": "stream",
     "text": [
      "il y a 18 fichiers dans /home/tibia/Documents/nnUNet/splitv2/ich_seg_v4_adrien/imagesTs\n",
      "Renommé : ID_7f88806c.nii.gz → ID_7f88806c_0000.nii.gz\n",
      "Renommé : ID_02599242.nii.gz → ID_02599242_0000.nii.gz\n",
      "Renommé : ID_3909b107.nii.gz → ID_3909b107_0000.nii.gz\n",
      "Renommé : ID_3b4accbe.nii.gz → ID_3b4accbe_0000.nii.gz\n",
      "Renommé : ID_28d52dd2.nii.gz → ID_28d52dd2_0000.nii.gz\n",
      "Renommé : ID_4d990362.nii.gz → ID_4d990362_0000.nii.gz\n",
      "Renommé : ID_3604e294.nii.gz → ID_3604e294_0000.nii.gz\n",
      "Renommé : ID_76aeaf2d.nii.gz → ID_76aeaf2d_0000.nii.gz\n",
      "Renommé : ID_ad9019df.nii.gz → ID_ad9019df_0000.nii.gz\n",
      "Renommé : ID_730cb33c.nii.gz → ID_730cb33c_0000.nii.gz\n",
      "Renommé : ID_0634c835.nii.gz → ID_0634c835_0000.nii.gz\n",
      "Renommé : ID_8e954b69.nii.gz → ID_8e954b69_0000.nii.gz\n",
      "Renommé : ID_a6c3a453.nii.gz → ID_a6c3a453_0000.nii.gz\n",
      "Renommé : ID_22257cef.nii.gz → ID_22257cef_0000.nii.gz\n",
      "Renommé : ID_747f1c99.nii.gz → ID_747f1c99_0000.nii.gz\n",
      "Renommé : ID_21daa8ce.nii.gz → ID_21daa8ce_0000.nii.gz\n",
      "Renommé : ID_40d6277f.nii.gz → ID_40d6277f_0000.nii.gz\n",
      "Renommé : ID_b65b5eef.nii.gz → ID_b65b5eef_0000.nii.gz\n"
     ]
    }
   ],
   "source": [
    "#Format nnUNet\n",
    "root_folder = '/home/tibia/Documents/nnUNet/splitv2/ich_seg_v4_adrien/'\n",
    "images_folder = os.path.join(root_folder, 'imagesTs')\n",
    "\n",
    "\n",
    "if os.path.exists(images_folder):\n",
    "    files = os.listdir(images_folder)\n",
    "    print(f\"il y a {len(files)} fichiers dans {images_folder}\")\n",
    "    for file in files:\n",
    "        if file.endswith('.nii.gz'):  # Vérifie le format d'image attendu\n",
    "            # Sépare le nom et l'extension\n",
    "            base, ext = os.path.splitext(file)\n",
    "\n",
    "            # Si l'extension est .gz, traite correctement le double suffixe\n",
    "            if base.endswith('.nii'):\n",
    "                base, nii_ext = os.path.splitext(base)\n",
    "                ext = nii_ext + ext\n",
    "\n",
    "            # Vérifie si le suffixe _0000 est déjà présent\n",
    "            if not base.endswith('_0000'):\n",
    "                new_name = f\"{base}_0000{ext}\"\n",
    "                old_path = os.path.join(images_folder, file)\n",
    "                new_path = os.path.join(images_folder, new_name)\n",
    "\n",
    "                # Renomme le fichier\n",
    "                os.rename(old_path, new_path)\n",
    "                print(f\"Renommé : {file} → {new_name}\")\n",
    "            else:\n",
    "                print(f\"Déjà au format nnU-Net : {file}\")\n",
    "else:\n",
    "    print(f\"Le dossier {images_folder} n'existe pas.\")\n"
   ]
  },
  {
   "cell_type": "markdown",
   "id": "d124400a",
   "metadata": {},
   "source": [
    "## Split V4"
   ]
  },
  {
   "cell_type": "code",
   "execution_count": null,
   "id": "c74b664a7e601469",
   "metadata": {},
   "outputs": [
    {
     "name": "stdout",
     "output_type": "stream",
     "text": [
      "\n",
      "Analyse des labelsTr...\n",
      "Analyse de 341 fichiers...\n",
      "Traitement du fichier 0/341...\n",
      "Traitement du fichier 50/341...\n",
      "Traitement du fichier 100/341...\n",
      "Traitement du fichier 150/341...\n",
      "Traitement du fichier 200/341...\n",
      "Traitement du fichier 250/341...\n",
      "Traitement du fichier 300/341...\n",
      "\n",
      "Résultat pour labelsTr (entraînement):\n",
      "Label 0: présent dans 341 images\n",
      "Label 1: présent dans 341 images\n",
      "Label 2: présent dans 188 images\n",
      "Label 3: présent dans 330 images\n",
      "\n",
      "Analyse des labelsTs...\n",
      "Analyse de 18 fichiers...\n",
      "Traitement du fichier 0/18...\n",
      "\n",
      "Résultat pour labelsTs (test):\n",
      "Label 0: présent dans 18 images\n",
      "Label 1: présent dans 18 images\n",
      "Label 2: présent dans 9 images\n",
      "Label 3: présent dans 17 images\n"
     ]
    }
   ],
   "source": [
    "import os\n",
    "import numpy as np\n",
    "from collections import defaultdict\n",
    "import nibabel as nib  # si format NIfTI\n",
    "\n",
    "root_folder = '/home/tibia/Projet_Hemorragie/Seg_hemorragie/splitv2/ich_seg_v4_adrien'\n",
    "\n",
    "def count_images_per_label(folder_path):\n",
    "    label_counts = {0: 0, 1: 0, 2: 0, 3: 0}  # Initialise tous les labels à 0\n",
    "    \n",
    "    files = os.listdir(folder_path)\n",
    "    print(f\"Analyse de {len(files)} fichiers...\")\n",
    "    \n",
    "    for i, file in enumerate(files):\n",
    "        if i % 50 == 0:  \n",
    "            print(f\"Traitement du fichier {i}/{len(files)}...\")\n",
    "            \n",
    "        file_path = os.path.join(folder_path, file)\n",
    "        \n",
    "   \n",
    "        img = nib.load(file_path)\n",
    "        data = img.get_fdata()\n",
    "        \n",
    "        # Labels uniques pour image donnée\n",
    "        present_labels = np.unique(data)\n",
    "      \n",
    "        for label in present_labels:\n",
    "            if label in label_counts:\n",
    "                label_counts[label] += 1\n",
    "    \n",
    "    return label_counts\n",
    "\n",
    "# Analyse pour les données d'entraînement\n",
    "print(\"\\nAnalyse des labelsTr...\")\n",
    "labelsTr_path = os.path.join(root_folder, 'labelsTr')\n",
    "train_counts = count_images_per_label(labelsTr_path)\n",
    "print(\"\\nRésultat pour labelsTr (entraînement):\")\n",
    "for label, count in sorted(train_counts.items()):\n",
    "    print(f\"Label {label}: présent dans {count} images\")\n",
    "\n",
    "# Analyse pour les données de test\n",
    "print(\"\\nAnalyse des labelsTs...\")\n",
    "labelsTs_path = os.path.join(root_folder, 'labelsTs')\n",
    "test_counts = count_images_per_label(labelsTs_path)\n",
    "print(\"\\nRésultat pour labelsTs (test):\")\n",
    "for label, count in sorted(test_counts.items()):\n",
    "    print(f\"Label {label}: présent dans {count} images\")"
   ]
  },
  {
   "cell_type": "code",
   "execution_count": 10,
   "id": "33eab623",
   "metadata": {},
   "outputs": [
    {
     "data": {
      "image/png": "[encoded data removed]",
      "text/plain": [
       "<Figure size 1200x500 with 2 Axes>"
      ]
     },
     "metadata": {},
     "output_type": "display_data"
    }
   ],
   "source": [
    "import matplotlib.pyplot as plt\n",
    "import numpy as np\n",
    "\n",
    "# Vos données\n",
    "labels = [0, 1, 2, 3]\n",
    "train_counts = [341, 341, 188, 330]  # labelsTr\n",
    "test_counts = [18, 18, 9, 17]        # labelsTs\n",
    "\n",
    "# Calcul des pourcentages\n",
    "train_perc = [count/train_counts[0]*100 for count in train_counts]\n",
    "test_perc = [count/test_counts[0]*100 for count in test_counts]\n",
    "\n",
    "# Création du graphique\n",
    "fig, (ax1, ax2) = plt.subplots(1, 2, figsize=(12, 5))\n",
    "\n",
    "# Graphique pour l'entraînement\n",
    "ax1.bar(labels, train_counts, color=['blue', 'green', 'orange', 'red'])\n",
    "ax1.set_title('Répartition dans labelsTr (341 images)')\n",
    "ax1.set_xlabel('Label')\n",
    "ax1.set_ylabel('Nombre d\\'images')\n",
    "ax1.set_xticks(labels)\n",
    "\n",
    "\n",
    "# Graphique pour le test\n",
    "ax2.bar(labels, test_counts, color=['blue', 'green', 'orange', 'red'])\n",
    "ax2.set_title('Répartition dans labelsTs (18 images)')\n",
    "ax2.set_xlabel('Label')\n",
    "ax2.set_ylabel('Nombre d\\'images')\n",
    "ax2.set_xticks(labels)\n",
    "\n",
    "\n",
    "plt.tight_layout()\n",
    "plt.show()"
   ]
  },
  {
   "cell_type": "code",
   "execution_count": 2,
   "id": "c88a85243aff0751",
   "metadata": {},
   "outputs": [
    {
     "name": "stdout",
     "output_type": "stream",
     "text": [
      "\n",
      "=== Vérification ===\n",
      "Train - Labels: {0: 311, 1: 311, 2: 173, 3: 301}\n",
      "Val   - Labels: {0: 30, 1: 30, 2: 15, 3: 29}\n",
      "\n",
      "Nombre d'images :\n",
      "Train: 311\n",
      "Val: 30\n"
     ]
    }
   ],
   "source": [
    "import os\n",
    "import numpy as np\n",
    "import shutil\n",
    "from glob import glob\n",
    "import nibabel as nib\n",
    "\n",
    "\n",
    "orig_root = '/home/tibia/Projet_Hemorragie/Seg_hemorragie/splitv2/ich_seg_v4_adrien'\n",
    "monai_root = os.path.join(orig_root, 'split_MONAI')\n",
    "\n",
    "\n",
    "os.makedirs(os.path.join(monai_root, 'imagesTr'), exist_ok=True)\n",
    "os.makedirs(os.path.join(monai_root, 'labelsTr'), exist_ok=True)\n",
    "os.makedirs(os.path.join(monai_root, 'imagesVal'), exist_ok=True)\n",
    "os.makedirs(os.path.join(monai_root, 'labelsVal'), exist_ok=True)\n",
    "\n",
    "\n",
    "all_images = sorted(glob(os.path.join(orig_root, 'imagesTr', '*.nii.gz')))\n",
    "all_labels = sorted(glob(os.path.join(orig_root, 'labelsTr', '*.nii.gz')))\n",
    "\n",
    "# liste image avec label 2\n",
    "has_label2 = []\n",
    "for label_path in all_labels:\n",
    "    if 2 in np.unique(nib.load(label_path).get_fdata()):\n",
    "        has_label2.append(True)\n",
    "    else:\n",
    "        has_label2.append(False)\n",
    "\n",
    "has_label2 = np.array(has_label2)\n",
    "\n",
    "# 3. Sélectionner 15 avec label 2 + 15 aléatoire \n",
    "np.random.seed(42)\n",
    "label2_indices = np.where(has_label2)[0]\n",
    "other_indices = np.where(~has_label2)[0]\n",
    "\n",
    "selected_label2 = np.random.choice(label2_indices, 15, replace=False)\n",
    "selected_others = np.random.choice(other_indices, 15, replace=False)\n",
    "val_indices = np.concatenate([selected_label2, selected_others])\n",
    "\n",
    "\n",
    "for i, (img_path, label_path) in enumerate(zip(all_images, all_labels)):\n",
    "    if i in val_indices:\n",
    "        # Copie vers validation\n",
    "        shutil.copy(img_path, os.path.join(monai_root, 'imagesVal', os.path.basename(img_path)))\n",
    "        shutil.copy(label_path, os.path.join(monai_root, 'labelsVal', os.path.basename(label_path)))\n",
    "    else:\n",
    "        # Copie vers entraînement\n",
    "        shutil.copy(img_path, os.path.join(monai_root, 'imagesTr', os.path.basename(img_path)))\n",
    "        shutil.copy(label_path, os.path.join(monai_root, 'labelsTr', os.path.basename(label_path)))\n",
    "\n",
    "# 5. Vérification\n",
    "def count_labels(folder):\n",
    "    counts = {0:0, 1:0, 2:0, 3:0}\n",
    "    for f in glob(os.path.join(folder, '*.nii.gz')):\n",
    "        data = nib.load(f).get_fdata()\n",
    "        for lbl in np.unique(data):\n",
    "            counts[lbl] += 1\n",
    "    return counts\n",
    "\n",
    "print(\"\\n=== Vérification ===\")\n",
    "print(\"Train - Labels:\", count_labels(os.path.join(monai_root, 'labelsTr')))\n",
    "print(\"Val   - Labels:\", count_labels(os.path.join(monai_root, 'labelsVal')))\n",
    "\n",
    "print(\"\\nNombre d'images :\")\n",
    "print(f\"Train: {len(os.listdir(os.path.join(monai_root, 'imagesTr')))}\")\n",
    "print(f\"Val: {len(os.listdir(os.path.join(monai_root, 'imagesVal')))}\")"
   ]
  },
  {
   "cell_type": "markdown",
   "id": "fda6d500-e4a8-466c-ae41-b688db54a224",
   "metadata": {},
   "source": [
    "## statistic generation"
   ]
  },
  {
   "cell_type": "code",
   "execution_count": 11,
   "id": "a572e288-fbd6-40bb-a637-632c6c9b6423",
   "metadata": {},
   "outputs": [
    {
     "name": "stdout",
     "output_type": "stream",
     "text": [
      "{'min': -1024.0, 'max': 1668.0, 'mean': -633.3997630557499, 'non_zero_mean': 166.25389056828413, '0.5% percentile': -1012.0, '99.5% percentile': 919.0}\n"
     ]
    }
   ],
   "source": [
    "def load_nifti(file_path):\n",
    "    img = nib.load(file_path)\n",
    "    return img.get_fdata(), img  \n",
    "\n",
    "# Calculer les statistiques demandées\n",
    "def compute_statistics(image_array):\n",
    "    min_val = np.min(image_array)\n",
    "    max_val = np.max(image_array)\n",
    "    mean_val = np.mean(image_array)\n",
    "\n",
    "    non_zero_pixels = image_array[image_array > 0]\n",
    "    non_zero_mean = np.mean(non_zero_pixels) if non_zero_pixels.size > 0 else 0\n",
    "\n",
    "    p_05 = np.percentile(image_array, 0.5)\n",
    "    p_995 = np.percentile(image_array, 99.5)\n",
    "\n",
    "    return {\n",
    "        \"min\": min_val,\n",
    "        \"max\": max_val,\n",
    "        \"mean\": mean_val,\n",
    "        \"non_zero_mean\": non_zero_mean,\n",
    "        \"0.5% percentile\": p_05,\n",
    "        \"99.5% percentile\": p_995\n",
    "    }\n",
    "\n",
    "# Exemple d'utilisation avec un fichier .nii.gz\n",
    "\n",
    "image_array, nib_image = load_nifti(file_path)\n",
    "stats = compute_statistics(image_array)\n",
    "\n",
    "# Afficher les résultats\n",
    "print(stats)"
   ]
  },
  {
   "cell_type": "code",
   "execution_count": 12,
   "id": "359d84f5-dc97-44aa-bcf9-6bb94b32e36b",
   "metadata": {},
   "outputs": [
    {
     "name": "stdout",
     "output_type": "stream",
     "text": [
      "Fichier trouvé : True\n",
      "{'min': 0.0, 'max': 3.0, 'mean': 0.005533456802368164, 'non_zero_mean': 2.518064446132147, '0.5% percentile': 0.0, '99.5% percentile': 0.0}\n"
     ]
    }
   ],
   "source": [
    "#meme chose pour l'image segmentee\n",
    "file = \"ID_b65b5eef.nii.gz\" \n",
    "file_path_2= os.path.join(os.path.join(root_folder,'seg'),file)\n",
    "print(\"Fichier trouvé :\", os.path.exists(file_path_2))\n",
    "\n",
    "segmentation_array, nib_image_2 = load_nifti(file_path_2)\n",
    "stats = compute_statistics(segmentation_array)\n",
    "print(stats)"
   ]
  }
 ],
 "metadata": {
  "kernelspec": {
   "display_name": "hemorragie-env",
   "language": "python",
   "name": "python3"
  },
  "language_info": {
   "codemirror_mode": {
    "name": "ipython",
    "version": 3
   },
   "file_extension": ".py",
   "mimetype": "text/x-python",
   "name": "python",
   "nbconvert_exporter": "python",
   "pygments_lexer": "ipython3",
   "version": "3.12.9"
  }
 },
 "nbformat": 4,
 "nbformat_minor": 5
}
