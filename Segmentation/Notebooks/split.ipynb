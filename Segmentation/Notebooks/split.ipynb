{
 "cells": [
  {
   "cell_type": "markdown",
   "metadata": {},
   "source": [
    "# Split for final validation"
   ]
  },
  {
   "cell_type": "code",
   "execution_count": 3,
   "metadata": {},
   "outputs": [
    {
     "name": "stdout",
     "output_type": "stream",
     "text": [
      "✅ Processed ID_0219ef88_ID_e5c1a31210\n",
      "✅ Processed ID_066b1fc2_ID_f937d7bff0\n",
      "✅ Processed ID_095c522a_ID_19cfefdccb\n",
      "✅ Processed ID_0a040036_ID_44cc017f8a\n",
      "✅ Processed ID_0a0e8fbe_ID_7f6c5ed050\n",
      "✅ Processed ID_0bee00a2_ID_0b9e78b135\n",
      "✅ Processed ID_0c45b337_ID_8fd676c7ac\n",
      "✅ Processed ID_0cdd2365_ID_bcc6fbef0d\n",
      "✅ Processed ID_0d0f361b_ID_17542973dc\n",
      "✅ Processed ID_0df4e645_ID_d14c8c9b99\n",
      "✅ Processed ID_0e8ba35b_ID_d60ed297ea\n",
      "✅ Processed ID_0f320c56_ID_27f2bce652\n",
      "✅ Processed ID_0faab8a8_ID_df9d49e5e6\n",
      "✅ Processed ID_0fb0d3d2_ID_6270e85cb5\n",
      "✅ Processed ID_0ff437c4_ID_0c9a06814c\n",
      "✅ Processed ID_1aff4c26_ID_94bbe7f6cc\n",
      "✅ Processed ID_1b5a3933_ID_856868cbfd\n",
      "✅ Processed ID_1b5cfeda_ID_6e06ec9a1f\n",
      "✅ Processed ID_1bd90426_ID_44493c1d26\n",
      "✅ Processed ID_1c3da1cd_ID_cbb8a2936b\n",
      "✅ Processed ID_1dfa5b21_ID_02cd74218f\n",
      "✅ Processed ID_1ea1a5cd_ID_f7ffcd3292\n",
      "✅ Processed ID_1ea8a377_ID_38c12664cf\n",
      "✅ Processed ID_1f2017cd_ID_bfab570858\n",
      "✅ Processed ID_1fcb892c_ID_908ec8ac6e\n",
      "✅ Processed ID_26aa5747_ID_da121424ef\n",
      "✅ Processed ID_28e80c22_ID_bf9876ebdd\n",
      "✅ Processed ID_2a712323_ID_7ef0ade00a\n",
      "✅ Processed ID_2b7cc24e_ID_6fea1c1fb3\n",
      "✅ Processed ID_3aa50c55_ID_9bed05390d\n",
      "✅ Processed ID_3fa11bf9_ID_9a7a61f482\n",
      "✅ Processed ID_3fd996e7_ID_3d4c47c7a4\n",
      "✅ Processed ID_4c27e050_ID_4148891184\n",
      "✅ Processed ID_4df69bae_ID_e5bd3504d8\n",
      "✅ Processed ID_4e970d93_ID_2713bc273b\n",
      "✅ Processed ID_5ae36db5_ID_17014b11f1\n",
      "✅ Processed ID_5e61b52f_ID_0f080d4194\n",
      "✅ Processed ID_5fe1b289_ID_0f30dec3b3\n",
      "✅ Processed ID_6f5384b7_ID_1dae254908\n",
      "✅ Processed ID_75e616a8_ID_8ce0debeb1\n",
      "✅ Processed ID_7742a473_ID_9f006ce4ef\n",
      "✅ Processed ID_7b1f4a51_ID_0b4e0df673\n",
      "✅ Processed ID_7eeb6638_ID_02d57cd50b\n",
      "✅ Processed ID_8bb2daac_ID_f1994421cc\n",
      "✅ Processed ID_90ae3af3_ID_8d77fcb5d2\n",
      "✅ Processed ID_93e3cc83_ID_c0e899cc25\n",
      "✅ Processed ID_96bb7e1d_ID_4b827bde69\n",
      "✅ Processed ID_fd77bee7_ID_60083050a8\n"
     ]
    }
   ],
   "source": [
    "import os\n",
    "import shutil\n",
    "from pathlib import Path\n",
    "\n",
    "# dossier d'entrée et sortie\n",
    "src_dir = Path(\"/home/tibia/Projet_Hemorragie/MBH_Val\")\n",
    "dst_dir = Path(\"/home/tibia/Projet_Hemorragie/MBH_v2_val\")\n",
    "\n",
    "img_dir = dst_dir / \"img\"\n",
    "seg_dir = dst_dir / \"seg\"\n",
    "\n",
    "# création des dossiers de sortie\n",
    "img_dir.mkdir(parents=True, exist_ok=True)\n",
    "seg_dir.mkdir(parents=True, exist_ok=True)\n",
    "\n",
    "# boucle patient\n",
    "for case_dir in src_dir.iterdir():\n",
    "    #print(case_dir.name)\n",
    "    if not case_dir.is_dir():\n",
    "        continue\n",
    "\n",
    "    # identifiant = nom du dossier\n",
    "    case_id = case_dir.name\n",
    "\n",
    "    # fichiers source\n",
    "    img_file = case_dir / \"image.nii.gz\"\n",
    "    seg_file = case_dir / \"label_annot_1.nii.gz\"\n",
    "\n",
    "    # fichiers destination\n",
    "    dst_img = img_dir / f\"{case_id}.nii.gz\"\n",
    "    dst_seg = seg_dir / f\"{case_id}.nii.gz\"\n",
    "\n",
    "    if not img_file.exists() or not seg_file.exists():\n",
    "        print(f\" Missing files for {case_id}, skipping.\")\n",
    "        continue\n",
    "\n",
    "    # copie\n",
    "    shutil.copy(img_file, dst_img)\n",
    "    shutil.copy(seg_file, dst_seg)\n",
    "\n",
    "    print(f\"✅ Processed {case_id}\")"
   ]
  },
  {
   "cell_type": "code",
   "execution_count": 4,
   "metadata": {},
   "outputs": [
    {
     "name": "stdout",
     "output_type": "stream",
     "text": [
      "✅ Copied img for train\n",
      "✅ Copied seg for train\n",
      "✅ Copied img for val\n",
      "✅ Copied seg for val\n"
     ]
    }
   ],
   "source": [
    "import shutil\n",
    "from pathlib import Path\n",
    "\n",
    "# chemins sources\n",
    "train_src = Path(\"/home/tibia/Projet_Hemorragie/MBH_SEG_2025_LLG_2025_06_12\")\n",
    "val_src = Path(\"/home/tibia/Projet_Hemorragie/MBH_v2_val\")\n",
    "\n",
    "# chemin destination\n",
    "dst_root = Path(\"/home/tibia/Projet_Hemorragie/Split_MBH_V2\")\n",
    "\n",
    "# sous-dossiers train/val\n",
    "for split, src in [(\"train\", train_src), (\"val\", val_src)]:\n",
    "    for sub in [\"img\", \"seg\"]:\n",
    "        dst_dir = dst_root / split / sub\n",
    "        dst_dir.mkdir(parents=True, exist_ok=True)\n",
    "\n",
    "        for f in (src / sub).glob(\"*.nii.gz\"):\n",
    "            shutil.copy(f, dst_dir / f.name)\n",
    "\n",
    "        print(f\"✅ Copied {sub} for {split}\")"
   ]
  }
 ],
 "metadata": {
  "kernelspec": {
   "display_name": "hemorragie-env",
   "language": "python",
   "name": "python3"
  },
  "language_info": {
   "codemirror_mode": {
    "name": "ipython",
    "version": 3
   },
   "file_extension": ".py",
   "mimetype": "text/x-python",
   "name": "python",
   "nbconvert_exporter": "python",
   "pygments_lexer": "ipython3",
   "version": "3.12.9"
  }
 },
 "nbformat": 4,
 "nbformat_minor": 2
}
