{
 "cells": [
  {
   "cell_type": "code",
   "execution_count": 7,
   "id": "e7eb3097",
   "metadata": {},
   "outputs": [],
   "source": [
    "import numpy as np\n",
    "\n",
    "def generate_json_per_type(mask, spacing_mm, class_labels):\n",
    "    json_result = {}\n",
    "    \n",
    "    type_counts = {label: np.count_nonzero(mask == i+1) for i, label in enumerate(class_labels)}\n",
    "    print(type_counts)\n",
    "    type_counts = {k: v for k, v in type_counts.items() if v > 0}\n",
    "\n",
    "    json_result[\"hemorrhage_detected\"] = len(type_counts) > 0\n",
    "    json_result[\"types\"] = []\n",
    "\n",
    "    for i, label in enumerate(class_labels):\n",
    "        voxels = np.count_nonzero(mask == i+1)\n",
    "        if voxels == 0:\n",
    "            continue\n",
    "\n",
    "        voxel_volume_mm3 = spacing_mm[0] * spacing_mm[1] * spacing_mm[2]\n",
    "        volume_cm3 = voxels * voxel_volume_mm3 / 1000  # mm3 -> cm3\n",
    "\n",
    "        coords = np.array(np.nonzero(mask == i+1))\n",
    "        if coords.size > 0:\n",
    "            min_coords = coords.min(axis=1)\n",
    "            max_coords = coords.max(axis=1)\n",
    "            size_mm = (max_coords - min_coords + 1) * np.array(spacing_mm)\n",
    "            size_str = \"x\".join([str(int(s)) for s in size_mm])\n",
    "        else:\n",
    "            size_str = \"0x0x0\"\n",
    "\n",
    "        json_result[\"types\"].append({\n",
    "            \"type\": label,\n",
    "            \"volume_cm3\": round(volume_cm3, 2),\n",
    "            \"size_mm\": size_str\n",
    "        })\n",
    "\n",
    "    return json_result"
   ]
  },
  {
   "cell_type": "code",
   "execution_count": 19,
   "id": "84516e8d",
   "metadata": {},
   "outputs": [
    {
     "name": "stdout",
     "output_type": "stream",
     "text": [
      "/home/tibia/Projet_Hemorragie/MBH_seg_v2_test_1/predictions\n",
      "nombre de fichiers : 48 \n",
      " premier fichier : ID_0219ef88_ID_e5c1a31210.nii.gz \n",
      "shape and type : (512, 512, 31) , <class 'nibabel.nifti1.Nifti1Image'> \n",
      "mask shape and type : (512, 512, 31) , <class 'numpy.ndarray'> \n",
      "{'EDH': 0, 'IPH': 0, 'IVH': 0, 'SAH': 282, 'SDH': 2520}\n"
     ]
    },
    {
     "name": "stdout",
     "output_type": "stream",
     "text": [
      "{'hemorrhage_detected': True, 'types': [{'type': 'SAH', 'volume_cm3': 0.34, 'size_mm': '63x82x30'}, {'type': 'SDH', 'volume_cm3': 3.06, 'size_mm': '81x148x116'}]}\n"
     ]
    }
   ],
   "source": [
    "import os \n",
    "import nibabel as nib \n",
    "class_labels = [\"EDH\",\"IPH\",\"IVH\",\"SAH\",\"SDH\"] \n",
    "prediction_path = \"/home/tibia/Projet_Hemorragie/MBH_seg_v2_test_1/predictions\" \n",
    "print(prediction_path) \n",
    "print(f\"nombre de fichiers : {len(os.listdir(prediction_path))} \")\n",
    "first_seg_file = os.listdir(prediction_path)[0] \n",
    "print(f\" premier fichier : {first_seg_file} \")\n",
    "mask_img = nib.load(os.path.join(prediction_path, first_seg_file))\n",
    "print(f\"shape and type : {mask_img.shape} , {type(mask_img)} \")\n",
    "mask = mask_img.get_fdata().astype(np.int32)  # array numpy avec les labels\n",
    "print(f\"mask shape and type : {mask.shape} , {type(mask)} \")\n",
    "\n",
    "spacing = mask_img.header.get_zooms()\n",
    "\n",
    "\n",
    "json_result = generate_json_per_type(mask, mask_img.header.get_zooms(), class_labels)\n",
    "print(json_result)"
   ]
  },
  {
   "cell_type": "code",
   "execution_count": 12,
   "id": "0afe8ff8",
   "metadata": {},
   "outputs": [],
   "source": [
    "import nibabel as nib\n",
    "import numpy as np\n",
    "\n",
    "def compute_labels_volume(path_segmentation, labels_tag):\n",
    "    \"\"\"\n",
    "    Lit la segmentation une seule fois et retourne un dict {label: volume_mL}.\n",
    "    - path_segmentation : chemin vers NIfTI (.nii/.nii.gz)\n",
    "    - labels_tag : liste d'entiers (labels d'intérêt)\n",
    "    ex: compute_labels_volume_ml(segmentation_patient.nii.gz, [1,2,3])\n",
    "    \"\"\"\n",
    "    img = nib.load(path_segmentation)\n",
    "    data = img.get_fdata(dtype=np.uint8)\n",
    "    voxel_vol_mm3 = np.prod(img.header.get_zooms())  # mm per voxel product\n",
    "\n",
    "    # compter une seule fois tous les labels présents\n",
    "    labels_present, counts = np.unique(data, return_counts=True)\n",
    "    counts_map = dict(zip(labels_present.astype(int), counts.astype(int)))\n",
    "\n",
    "    # construire résultat pour tous les labels demandés (0 si absent)\n",
    "    volumes_ml = {}\n",
    "    for lbl in labels_tag:\n",
    "        c = counts_map.get(int(lbl), 0)\n",
    "        volumes_ml[int(lbl)] = (int(c) * float(voxel_vol_mm3)) / 1000.0\n",
    "\n",
    "    return volumes_ml\n",
    "\n",
    "\n",
    "import nibabel as nib\n",
    "import numpy as np\n",
    "\n",
    "def compute_labels_volume_safe(path_segmentation, labels_tag, int_dtype=np.int32, allow_round=False):\n",
    "    \"\"\"\n",
    "    Lit la segmentation une seule fois et retourne un dict {label: volume_mL}.\n",
    "    - path_segmentation : chemin vers NIfTI (.nii/.nii.gz)\n",
    "    - labels_tag : iterable d'entiers (labels d'intérêt)\n",
    "    - int_dtype : dtype entier à utiliser en mémoire (np.int32 recommandé)\n",
    "    - allow_round : si True, on arrondit les valeurs flottantes avant conversion en entier\n",
    "\n",
    "    Retour : dict {int(label): float(volume_mL)}\n",
    "    \"\"\"\n",
    "    # chargement\n",
    "    img = nib.load(path_segmentation)\n",
    "    voxel_vol_mm3 = float(np.prod(img.header.get_zooms()))  # mm^3 par voxel\n",
    "\n",
    "    # get_fdata renvoie souvent float64 ; on charge d'abord en float pour vérifier\n",
    "    if int_dtype is None:\n",
    "        int_dtype = img.dataobj.dtype  # conserve le type original\n",
    "\n",
    "    data = np.asanyarray(img.dataobj, dtype=int_dtype)\n",
    "\n",
    "    # Si data n'est pas entier, soit erreur soit arrondir selon allow_round\n",
    "    if not np.issubdtype(data.dtype, np.integer):\n",
    "        # vérifier si toutes les valeurs sont proche d'entiers\n",
    "        if not np.allclose(data, np.rint(data)):\n",
    "            if not allow_round:\n",
    "                raise ValueError(\n",
    "                    \"La segmentation contient des valeurs non entières. \"\n",
    "                    \"Si vous voulez autoriser l'arrondi avant conversion, passez allow_round=True.\"\n",
    "                )\n",
    "            # arrondir ensuite convertir\n",
    "        data = np.rint(data)\n",
    "\n",
    "    # conversion en dtype entier (copie évitée si possible)\n",
    "    if isinstance(data, np.ndarray):\n",
    "        data = data.astype(int_dtype, copy=False, order='C')\n",
    "    else:\n",
    "        # pour les objets memmap/dataobj : forcer via np.array (qui accepte copy param)\n",
    "        data = np.array(data, dtype=int_dtype, copy=False, order='C')\n",
    "\n",
    "    # compter une seule fois tous les labels présents\n",
    "    labels_present, counts = np.unique(data, return_counts=True)\n",
    "    counts_map = dict(zip(labels_present.astype(int), counts.astype(int)))\n",
    "\n",
    "    # construire résultat (0 si absent)\n",
    "    volumes_ml = {}\n",
    "    for lbl in labels_tag:\n",
    "        lbl_int = int(lbl)\n",
    "        c = counts_map.get(lbl_int, 0)\n",
    "        volumes_ml[lbl_int] = (int(c) * voxel_vol_mm3) / 1000.0  # mm^3 -> mL\n",
    "\n",
    "    return volumes_ml\n"
   ]
  },
  {
   "cell_type": "code",
   "execution_count": 20,
   "id": "b281d2bd",
   "metadata": {},
   "outputs": [
    {
     "name": "stdout",
     "output_type": "stream",
     "text": [
      "/home/tibia/Projet_Hemorragie/MBH_seg_v2_test_1/predictions/ID_0219ef88_ID_e5c1a31210.nii.gz\n"
     ]
    },
    {
     "data": {
      "text/plain": [
       "{1: 0.0, 2: 0.0, 3: 0.0, 4: 0.341885728597641, 5: 3.0551490640640258}"
      ]
     },
     "execution_count": 20,
     "metadata": {},
     "output_type": "execute_result"
    }
   ],
   "source": [
    "path_segmentation = os.path.join(prediction_path, first_seg_file)\n",
    "print(path_segmentation)\n",
    "compute_labels_volume_safe(path_segmentation , [1,2,3,4,5])"
   ]
  }
 ],
 "metadata": {
  "kernelspec": {
   "display_name": "hemorragie-env",
   "language": "python",
   "name": "python3"
  },
  "language_info": {
   "codemirror_mode": {
    "name": "ipython",
    "version": 3
   },
   "file_extension": ".py",
   "mimetype": "text/x-python",
   "name": "python",
   "nbconvert_exporter": "python",
   "pygments_lexer": "ipython3",
   "version": "3.12.9"
  }
 },
 "nbformat": 4,
 "nbformat_minor": 5
}
