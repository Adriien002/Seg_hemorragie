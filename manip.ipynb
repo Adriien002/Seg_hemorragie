{
 "cells": [
  {
   "cell_type": "markdown",
   "id": "6e89f6d9-14ec-4f70-a2fa-8d3fdd0cb35f",
   "metadata": {},
   "source": [
    "# Dataset manipulation (nibabel)\n"
   ]
  },
  {
   "cell_type": "markdown",
   "id": "45ba9e4e-bdd9-40f1-9a14-52ea41a4ac97",
   "metadata": {},
   "source": "## longueur du jeu et config chemins"
  },
  {
   "metadata": {
    "ExecuteTime": {
     "end_time": "2025-03-18T15:50:52.934821Z",
     "start_time": "2025-03-18T15:50:52.930986Z"
    }
   },
   "cell_type": "code",
   "source": [
    "\n",
    "import nibabel as nib\n",
    "import numpy as np\n",
    "import os\n",
    "\n",
    "\n",
    "%matplotlib inline\n",
    "import matplotlib.pyplot as plt\n",
    "\n",
    "import os\n",
    "print(\"Répertoire de travail actuel :\", os.getcwd())\n",
    "print(os.listdir(\"../..\")) #premier test\n"
   ],
   "id": "21351e139a8cf2c0",
   "outputs": [
    {
     "name": "stdout",
     "output_type": "stream",
     "text": [
      "Répertoire de travail actuel : /home/tibia/Documents/nnUNet/nnUNet_V_act/ich_seg_v4_adrien-20250318T153056Z-001/ich_seg_v4_adrien\n"
     ]
    }
   ],
   "execution_count": 7
  },
  {
   "metadata": {
    "ExecuteTime": {
     "end_time": "2025-03-18T15:52:55.121020Z",
     "start_time": "2025-03-18T15:52:55.117213Z"
    }
   },
   "cell_type": "code",
   "source": [
    "#travail sur les donnees de test\n",
    "root_folder= '/home/tibia/Documents/nnUNet/nnUNet_V_act/splitv2/ich_seg_v4_adrien'\n",
    "\n",
    "for subfolder in ['imagesTr','labelsTr']:\n",
    "    folder_path=os.path.join(root_folder,subfolder)\n",
    "    files=os.listdir(folder_path)\n",
    "    print(f'nombre de fichiers dans {folder_path}= {len(files)}')\n",
    "    print('-------------------------------')\n"
   ],
   "id": "ce85b9dc8280a1c0",
   "outputs": [
    {
     "name": "stdout",
     "output_type": "stream",
     "text": [
      "nombre de fichiers dans /home/tibia/Documents/nnUNet/nnUNet_V_act/ich_seg_v4_adrien-20250318T153056Z-001/ich_seg_v4_adrien/imagesTr= 341\n",
      "-------------------------------\n",
      "nombre de fichiers dans /home/tibia/Documents/nnUNet/nnUNet_V_act/ich_seg_v4_adrien-20250318T153056Z-001/ich_seg_v4_adrien/labelsTr= 341\n",
      "-------------------------------\n"
     ]
    }
   ],
   "execution_count": 8
  },
  {
   "metadata": {
    "ExecuteTime": {
     "end_time": "2025-03-21T02:54:53.977558Z",
     "start_time": "2025-03-21T02:54:53.956814Z"
    }
   },
   "cell_type": "code",
   "source": [
    "import os\n",
    "#changer jjuste le root ou tu veux mettre au bon format\n",
    "root_folder = '/home/tibia/Documents/nnUNet/splitv2/ich_seg_v4_adrien/'\n",
    "images_folder = os.path.join(root_folder, 'imagesTs')\n",
    "\n",
    "# Vérifie que le dossier existe\n",
    "if os.path.exists(images_folder):\n",
    "    files = os.listdir(images_folder)\n",
    "    print(f\"il y a {len(files)} fichiers dans {images_folder}\")\n",
    "    for file in files:\n",
    "        if file.endswith('.nii.gz'):  # Vérifie le format d'image attendu\n",
    "            # Sépare le nom et l'extension\n",
    "            base, ext = os.path.splitext(file)\n",
    "\n",
    "            # Si l'extension est .gz, traite correctement le double suffixe\n",
    "            if base.endswith('.nii'):\n",
    "                base, nii_ext = os.path.splitext(base)\n",
    "                ext = nii_ext + ext\n",
    "\n",
    "            # Vérifie si le suffixe _0000 est déjà présent\n",
    "            if not base.endswith('_0000'):\n",
    "                new_name = f\"{base}_0000{ext}\"\n",
    "                old_path = os.path.join(images_folder, file)\n",
    "                new_path = os.path.join(images_folder, new_name)\n",
    "\n",
    "                # Renomme le fichier\n",
    "                os.rename(old_path, new_path)\n",
    "                print(f\"Renommé : {file} → {new_name}\")\n",
    "            else:\n",
    "                print(f\"Déjà au format nnU-Net : {file}\")\n",
    "else:\n",
    "    print(f\"Le dossier {images_folder} n'existe pas.\")\n"
   ],
   "id": "5d540f62573822d5",
   "outputs": [
    {
     "name": "stdout",
     "output_type": "stream",
     "text": [
      "il y a 18 fichiers dans /home/tibia/Documents/nnUNet/splitv2/ich_seg_v4_adrien/imagesTs\n",
      "Renommé : ID_7f88806c.nii.gz → ID_7f88806c_0000.nii.gz\n",
      "Renommé : ID_02599242.nii.gz → ID_02599242_0000.nii.gz\n",
      "Renommé : ID_3909b107.nii.gz → ID_3909b107_0000.nii.gz\n",
      "Renommé : ID_3b4accbe.nii.gz → ID_3b4accbe_0000.nii.gz\n",
      "Renommé : ID_28d52dd2.nii.gz → ID_28d52dd2_0000.nii.gz\n",
      "Renommé : ID_4d990362.nii.gz → ID_4d990362_0000.nii.gz\n",
      "Renommé : ID_3604e294.nii.gz → ID_3604e294_0000.nii.gz\n",
      "Renommé : ID_76aeaf2d.nii.gz → ID_76aeaf2d_0000.nii.gz\n",
      "Renommé : ID_ad9019df.nii.gz → ID_ad9019df_0000.nii.gz\n",
      "Renommé : ID_730cb33c.nii.gz → ID_730cb33c_0000.nii.gz\n",
      "Renommé : ID_0634c835.nii.gz → ID_0634c835_0000.nii.gz\n",
      "Renommé : ID_8e954b69.nii.gz → ID_8e954b69_0000.nii.gz\n",
      "Renommé : ID_a6c3a453.nii.gz → ID_a6c3a453_0000.nii.gz\n",
      "Renommé : ID_22257cef.nii.gz → ID_22257cef_0000.nii.gz\n",
      "Renommé : ID_747f1c99.nii.gz → ID_747f1c99_0000.nii.gz\n",
      "Renommé : ID_21daa8ce.nii.gz → ID_21daa8ce_0000.nii.gz\n",
      "Renommé : ID_40d6277f.nii.gz → ID_40d6277f_0000.nii.gz\n",
      "Renommé : ID_b65b5eef.nii.gz → ID_b65b5eef_0000.nii.gz\n"
     ]
    }
   ],
   "execution_count": 2
  },
  {
   "metadata": {},
   "cell_type": "code",
   "outputs": [],
   "execution_count": null,
   "source": [
    "\n",
    "\n",
    "# Lister les fichiers dans chaque dossier\n",
    "train_files = set(os.listdir(root_train))  # Fichiers dans imagesTr\n",
    "seg_files = set(os.listdir(root_seg))      # Fichiers dans labelsTr\n",
    "\n",
    "# Afficher le nombre de fichiers dans chaque dossier\n",
    "print(f\"Nombre de fichiers dans imagesTr : {len(train_files)}\")\n",
    "print(f\"Nombre de fichiers dans labelsTr : {len(seg_files)}\")\n",
    "print('-------------------------------')\n",
    "\n",
    "# Vérifier les fichiers manquants\n",
    "missing_in_seg = train_files - seg_files  # Fichiers dans imagesTr mais pas dans labelsTr\n",
    "missing_in_train = seg_files - train_files  # Fichiers dans labelsTr mais pas dans imagesTr\n",
    "\n",
    "# Afficher les fichiers manquants\n",
    "if missing_in_seg:\n",
    "    print(\"Fichiers manquants dans labelsTr :\")\n",
    "    for file in sorted(missing_in_seg):\n",
    "        print(file)\n",
    "else:\n",
    "    print(\"Aucun fichier manquant dans labelsTr.\")\n",
    "\n",
    "print('-------------------------------')\n",
    "\n",
    "if missing_in_train:\n",
    "    print(\"Fichiers manquants dans imagesTr :\")\n",
    "    for file in sorted(missing_in_train):\n",
    "        print(file)\n",
    "else:\n",
    "    print(\"Aucun fichier manquant dans imagesTr.\")\n"
   ],
   "id": "c74b664a7e601469"
  },
  {
   "metadata": {},
   "cell_type": "code",
   "outputs": [],
   "execution_count": null,
   "source": "",
   "id": "c88a85243aff0751"
  },
  {
   "metadata": {},
   "cell_type": "code",
   "outputs": [],
   "execution_count": null,
   "source": [
    "#Premiere manip\n",
    "file = \"ID_7f88806c.nii.gz\" \n",
    "file_path= os.path.join(os.path.join(root_folder,'img'),file)\n",
    "print(\"Fichier trouvé :\", os.path.exists(file_path))\n",
    "\n",
    "img=nib.load(file_path)\n",
    "header=img.header\n",
    "print(header)\n",
    "print(header.get_data_shape())\n",
    "print(header.get_data_dtype())\n",
    "print(header.get_zooms())"
   ],
   "id": "769ab5ac313955cf"
  },
  {
   "metadata": {},
   "cell_type": "code",
   "outputs": [],
   "execution_count": null,
   "source": [
    "img.dataobj\n",
    "print(img.get_fdata())"
   ],
   "id": "26701015ecc26700"
  },
  {
   "cell_type": "markdown",
   "id": "fda6d500-e4a8-466c-ae41-b688db54a224",
   "metadata": {},
   "source": [
    "## statistic generation"
   ]
  },
  {
   "cell_type": "code",
   "execution_count": 11,
   "id": "a572e288-fbd6-40bb-a637-632c6c9b6423",
   "metadata": {},
   "outputs": [
    {
     "name": "stdout",
     "output_type": "stream",
     "text": [
      "{'min': -1024.0, 'max': 1668.0, 'mean': -633.3997630557499, 'non_zero_mean': 166.25389056828413, '0.5% percentile': -1012.0, '99.5% percentile': 919.0}\n"
     ]
    }
   ],
   "source": [
    "def load_nifti(file_path):\n",
    "    img = nib.load(file_path)\n",
    "    return img.get_fdata(), img  \n",
    "\n",
    "# Calculer les statistiques demandées\n",
    "def compute_statistics(image_array):\n",
    "    min_val = np.min(image_array)\n",
    "    max_val = np.max(image_array)\n",
    "    mean_val = np.mean(image_array)\n",
    "\n",
    "    non_zero_pixels = image_array[image_array > 0]\n",
    "    non_zero_mean = np.mean(non_zero_pixels) if non_zero_pixels.size > 0 else 0\n",
    "\n",
    "    p_05 = np.percentile(image_array, 0.5)\n",
    "    p_995 = np.percentile(image_array, 99.5)\n",
    "\n",
    "    return {\n",
    "        \"min\": min_val,\n",
    "        \"max\": max_val,\n",
    "        \"mean\": mean_val,\n",
    "        \"non_zero_mean\": non_zero_mean,\n",
    "        \"0.5% percentile\": p_05,\n",
    "        \"99.5% percentile\": p_995\n",
    "    }\n",
    "\n",
    "# Exemple d'utilisation avec un fichier .nii.gz\n",
    "\n",
    "image_array, nib_image = load_nifti(file_path)\n",
    "stats = compute_statistics(image_array)\n",
    "\n",
    "# Afficher les résultats\n",
    "print(stats)"
   ]
  },
  {
   "cell_type": "code",
   "execution_count": 12,
   "id": "359d84f5-dc97-44aa-bcf9-6bb94b32e36b",
   "metadata": {},
   "outputs": [
    {
     "name": "stdout",
     "output_type": "stream",
     "text": [
      "Fichier trouvé : True\n",
      "{'min': 0.0, 'max': 3.0, 'mean': 0.005533456802368164, 'non_zero_mean': 2.518064446132147, '0.5% percentile': 0.0, '99.5% percentile': 0.0}\n"
     ]
    }
   ],
   "source": [
    "#meme chose pour l'image segmentee\n",
    "file = \"ID_b65b5eef.nii.gz\" \n",
    "file_path_2= os.path.join(os.path.join(root_folder,'seg'),file)\n",
    "print(\"Fichier trouvé :\", os.path.exists(file_path_2))\n",
    "\n",
    "segmentation_array, nib_image_2 = load_nifti(file_path_2)\n",
    "stats = compute_statistics(segmentation_array)\n",
    "print(stats)"
   ]
  },
  {
   "cell_type": "code",
   "execution_count": 13,
   "id": "124b6837-3f84-4036-86c6-2e4a70c09472",
   "metadata": {},
   "outputs": [
    {
     "name": "stdout",
     "output_type": "stream",
     "text": [
      "Valeurs uniques : [0. 2. 3.]\n",
      "Nombre de voxels par valeur : [8370174    8884    9550]\n"
     ]
    }
   ],
   "source": [
    "unique_values, counts = np.unique(segmentation_array, return_counts=True)\n",
    "print(\"Valeurs uniques :\", unique_values)\n",
    "print(\"Nombre de voxels par valeur :\", counts)"
   ]
  },
  {
   "cell_type": "markdown",
   "id": "2c08494b-c55a-466d-a8f9-63df7afea201",
   "metadata": {},
   "source": [
    "## Windowing\n"
   ]
  },
  {
   "cell_type": "code",
   "execution_count": 33,
   "id": "457ef699-a90e-4286-94bb-78a2b008a64b",
   "metadata": {},
   "outputs": [
    {
     "name": "stdout",
     "output_type": "stream",
     "text": [
      "✅ Image sauvegardée sous : /home/tibia/Downloads/image_windowed.nii.gz\n",
      "✅ Image sauvegardée sous : /home/tibia/Downloads/segmentation_windowed.nii.gz\n"
     ]
    }
   ],
   "source": [
    "def apply_hu_windowing(image_array, hu_low, hu_high):\n",
    "    return np.clip(image_array, hu_low, hu_high)\n",
    "\n",
    " \n",
    "hu_low, hu_high = 30, 40 #pour cerveau : matiere blanche-matiere grise\n",
    "windowed_image = apply_hu_windowing(image_array, hu_low, hu_high)\n",
    "\n",
    "\n",
    "segmentation_windowed = np.clip(segmentation_array, 1, 3) #on prend que ce qui est segmentee\n",
    "\n",
    "\n",
    "output_dir = os.path.join(os.path.expanduser(\"~\"), \"Downloads\")\n",
    "output_path_image = os.path.join(output_dir, \"image_windowed.nii.gz\")\n",
    "output_path_segmentation = os.path.join(output_dir, \"segmentation_windowed.nii.gz\")\n",
    "\n",
    "def save_nifti(image_array, reference_nib, output_path):\n",
    "    new_img = nib.Nifti1Image(image_array, affine=reference_nib.affine, header=reference_nib.header)\n",
    "    nib.save(new_img, output_path)\n",
    "    print(f\"✅ Image sauvegardée sous : {output_path}\")\n",
    "\n",
    "\n",
    "save_nifti(windowed_image, nib_image, output_path_image)\n",
    "save_nifti(segmentation_windowed, nib_image_2, output_path_segmentation)"
   ]
  },
  {
   "cell_type": "code",
   "execution_count": null,
   "id": "372cb306-ac9b-4df0-9c3c-d21ca9dc686c",
   "metadata": {},
   "outputs": [],
   "source": []
  }
 ],
 "metadata": {
  "kernelspec": {
   "display_name": "Python 3 (ipykernel)",
   "language": "python",
   "name": "python3"
  },
  "language_info": {
   "codemirror_mode": {
    "name": "ipython",
    "version": 3
   },
   "file_extension": ".py",
   "mimetype": "text/x-python",
   "name": "python",
   "nbconvert_exporter": "python",
   "pygments_lexer": "ipython3",
   "version": "3.12.7"
  }
 },
 "nbformat": 4,
 "nbformat_minor": 5
}
