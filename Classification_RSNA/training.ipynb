{
 "cells": [
  {
   "cell_type": "markdown",
   "metadata": {},
   "source": [
    "## Class Test to understand __get_item__\n",
    "\n"
   ]
  },
  {
   "cell_type": "code",
   "execution_count": 1,
   "metadata": {},
   "outputs": [
    {
     "name": "stderr",
     "output_type": "stream",
     "text": [
      "/home/tibia/Projet_Hemorragie/hemorragie-env/lib/python3.12/site-packages/tqdm/auto.py:21: TqdmWarning: IProgress not found. Please update jupyter and ipywidgets. See https://ipywidgets.readthedocs.io/en/stable/user_install.html\n",
      "  from .autonotebook import tqdm as notebook_tqdm\n"
     ]
    },
    {
     "name": "stdout",
     "output_type": "stream",
     "text": [
      "Type of first_item: <class 'dict'>\n",
      "Keys in first_item: dict_keys(['image', 'label'])\n",
      "Shape of first_item['image']: (64, 64)\n",
      "Dataset length: 3\n",
      "Processing item 0\n",
      "Processing item 1\n",
      "Processing item 2\n",
      "images path : ['img1.dcm', 'img2.dcm', 'img3.dcm']\n",
      "labels : [0, 1, 0]\n",
      "Transforms : None\n"
     ]
    }
   ],
   "source": [
    "\n",
    "\n",
    "import numpy as np\n",
    "\n",
    "class MyMedicalDataset:\n",
    "    def __init__(self, image_paths, labels, transforms=None):\n",
    "        self.image_paths = image_paths\n",
    "        self.labels = labels\n",
    "        self.transforms = transforms\n",
    "\n",
    "    def __len__(self):\n",
    "        \n",
    "        return len(self.image_paths)\n",
    "\n",
    "    def __getitem__(self, idx):\n",
    "       \n",
    "        # When you do dataset[i], this method is called with idx = i\n",
    "\n",
    "        image_path = self.image_paths[idx]\n",
    "        label = self.labels[idx]\n",
    "\n",
    "        # In a real scenario, you'd load the image (e.g., DICOM with pydicom/MONAI LoadImage)\n",
    "        # For simplicity, let's pretend we load a dummy image\n",
    "        image_data = np.random.rand(64, 64) # Simulate loading an image\n",
    "\n",
    "        # Apply transforms if provided (e.g., MONAI transforms)\n",
    "        if self.transforms:\n",
    "            # MONAI transforms expect dictionaries\n",
    "            data_dict = {\"image\": image_data, \"label\": label}\n",
    "            data_dict = self.transforms(data_dict)\n",
    "            image_data = data_dict[\"image\"]\n",
    "            label = data_dict[\"label\"]\n",
    "\n",
    "        return {\"image\": image_data, \"label\": label}\n",
    "\n",
    "# --- Usage Example ---\n",
    "image_files = [\"img1.dcm\", \"img2.dcm\", \"img3.dcm\"]\n",
    "labels_data = [0, 1, 0]\n",
    "\n",
    "# Imagine some MONAI transforms here\n",
    "from monai.transforms import RandFlip, Compose, AsDiscrete, EnsureChannelFirstd\n",
    "\n",
    " #my_transforms = Compose([\n",
    "#     EnsureChannelFirstd(keys=\"image\"),\n",
    "#     RandFlip(prob=0.5, spatial_axis=None)\n",
    "    \n",
    "# ])\n",
    "\n",
    "\n",
    "dataset = MyMedicalDataset(image_files, labels_data, transforms=None)\n",
    "\n",
    "# This calls dataset.__getitem__(0)\n",
    "first_item = dataset[0]\n",
    "print(f\"Type of first_item: {type(first_item)}\")\n",
    "print(f\"Keys in first_item: {first_item.keys()}\")\n",
    "print(f\"Shape of first_item['image']: {first_item['image'].shape}\")\n",
    "\n",
    "# This calls dataset.__len__()\n",
    "print(f\"Dataset length: {len(dataset)}\")\n",
    "\n",
    "# This indirectly uses __getitem__ (and __len__) for iteration\n",
    "for i in range(len(dataset)):\n",
    "    item = dataset[i]\n",
    "    print(f\"Processing item {i}\")\n",
    "\n",
    "# Test on the class itself \n",
    "print(f\"images path : {dataset.image_paths}\" )\n",
    "print(f\"labels : {dataset.labels}\")\n",
    "print(f\"Transforms : {dataset.transforms}\")"
   ]
  },
  {
   "cell_type": "markdown",
   "metadata": {},
   "source": [
    "## RSNA class\n"
   ]
  },
  {
   "cell_type": "code",
   "execution_count": 69,
   "metadata": {},
   "outputs": [],
   "source": [
    "from torch.utils.data import Dataset\n",
    "import pydicom\n",
    "import torch\n",
    "import pandas as pd\n",
    "import numpy as np\n",
    "from pathlib import Path\n",
    "import monai.transforms as T\n",
    "\n",
    "def safe_get_first(value, default):\n",
    "    try:\n",
    "        if isinstance(value, pydicom.multival.MultiValue):\n",
    "            return float(value[0])\n",
    "        else:\n",
    "            return float(value)\n",
    "    except Exception:\n",
    "        return float(default)\n",
    "    \n",
    "\n",
    "class RSNA_DICOM_Dataset(Dataset):\n",
    "    def __init__(self, csv_path, dicom_dir, transform=None):\n",
    "        self.df = pd.read_csv(csv_path)\n",
    "        self.dicom_dir = Path(dicom_dir)\n",
    "        self.transform = transform\n",
    "        self.label_cols = [ 'any', 'epidural', 'intraparenchymal', 'intraventricular', 'subarachnoid', 'subdural']\n",
    "        self.loader = T.LoadImage(image_only=False)\n",
    "    def __len__(self):\n",
    "        return len(self.df)\n",
    "\n",
    "    def __getitem__(self, idx):\n",
    "        row = self.df.iloc[idx]\n",
    "        dcm_path = self.dicom_dir / row['filename']\n",
    "        dcm = pydicom.dcmread(str(dcm_path))\n",
    "\n",
    "        # Load image\n",
    "        image, meta = self.loader(str(dcm_path)) # Using MONAI's LoadImage\n",
    "\n",
    "        dicom_raw = pydicom.dcmread(str(dcm_path))\n",
    "\n",
    "        center = safe_get_first(getattr(dcm, 'WindowCenter', 40), 40)\n",
    "        width = safe_get_first(getattr(dcm, 'WindowWidth', 80), 80)\n",
    "        slope = safe_get_first(getattr(dcm, 'RescaleSlope', 1), 1)\n",
    "        intercept = safe_get_first(getattr(dcm, 'RescaleIntercept', 0), 0)\n",
    "        \n",
    "\n",
    "        img_np = image.astype(np.float32)\n",
    "        img_np = img_np * slope + intercept\n",
    "\n",
    "        img_windowed = np.clip(img_np, center - width // 2, center + width // 2)\n",
    "        img_norm = (img_windowed - img_windowed.min()) / (img_windowed.max() - img_windowed.min() + 1e-5)\n",
    "\n",
    "        # ==== 4. Conversion en tenseur PyTorch + ajout canal (C, H, W)\n",
    "        img_tensor = torch.from_numpy(img_norm).float().unsqueeze(0)  # [1, H, W]\n",
    "\n",
    "        # ==== 5. Resize etc.\n",
    "        if self.transform:\n",
    "            img_tensor = self.transform(img_tensor)\n",
    "\n",
    "        # ==== 6. Extraction des labels\n",
    "        label = torch.tensor(row[self.label_cols].values.astype(np.float32))\n",
    "        # print(\"DICOM path:\", dcm_path)\n",
    "        # print(\"Row filename:\", row['filename'])\n",
    "        # print(\"Row labels:\", row[['any', 'epidural', 'intraparenchymal', 'intraventricular', 'subarachnoid', 'subdural']])  \n",
    "        return img_tensor, label\n"
   ]
  },
  {
   "cell_type": "code",
   "execution_count": 73,
   "metadata": {},
   "outputs": [
    {
     "name": "stdout",
     "output_type": "stream",
     "text": [
      "filename            ID_357ebf7aa.dcm\n",
      "any                                1\n",
      "epidural                           0\n",
      "intraparenchymal                   0\n",
      "intraventricular                   1\n",
      "subarachnoid                       0\n",
      "subdural                           1\n",
      "PatientID                ID_00760731\n",
      "Name: 1001, dtype: object\n"
     ]
    }
   ],
   "source": [
    "#Vérifif alignement entre csv et get_item\n",
    "\n",
    "csv_path = csv_path = Path(\"/home/tibia/Projet_Hemorragie/Classification/RSNA2019_Intracranial-Hemorrhage-Detection/2DNet/data/csv/train_fold0.csv\")\n",
    "df = pd.read_csv(csv_path)\n",
    "\n",
    "print(df.iloc[1001])\n"
   ]
  },
  {
   "cell_type": "code",
   "execution_count": 77,
   "metadata": {},
   "outputs": [
    {
     "name": "stdout",
     "output_type": "stream",
     "text": [
      "Number of samples in the dataset: 539469\n",
      "torch.Size([1, 224, 224])\n",
      "tensor([1., 0., 0., 1., 0., 1.])\n"
     ]
    },
    {
     "data": {
      "image/png": "[encoded data removed]",
      "text/plain": [
       "<Figure size 640x480 with 1 Axes>"
      ]
     },
     "metadata": {},
     "output_type": "display_data"
    }
   ],
   "source": [
    "from torch.utils.data import DataLoader\n",
    "import matplotlib.pyplot as plt\n",
    "\n",
    "resize_transform = T.Resize((224, 224))\n",
    "csv_path = Path(\"/home/tibia/Projet_Hemorragie/Classification/RSNA2019_Intracranial-Hemorrhage-Detection/2DNet/data/csv/train_fold0.csv\")\n",
    "dicom_dir = Path(\"/home/tibia/Projet_Hemorragie/Classification/RSNA2019_Intracranial-Hemorrhage-Detection/2DNet/data/rsna-intracranial-hemorrhage-detection/stage_2_train\")\n",
    "train_dataset = RSNA_DICOM_Dataset(csv_path, dicom_dir, transform=resize_transform)\n",
    "print(f\"Number of samples in the dataset: {len(train_dataset)}\")\n",
    "\n",
    "image, label = train_dataset[1001]\n",
    "print(image.shape)  # [1, 224, 224]\n",
    "print(label)  \n",
    "image_np = image.squeeze(0).numpy()\n",
    "\n",
    "# Affichage\n",
    "plt.imshow(image_np, cmap='gray')\n",
    "plt.title(f\"Labels: {label.tolist()}\")\n",
    "plt.axis('off')\n",
    "plt.show()  \n",
    "\n",
    "#train_loader = DataLoader(train_dataset, batch_size=32, shuffle=True, num_workers=4)"
   ]
  },
  {
   "cell_type": "code",
   "execution_count": 44,
   "metadata": {},
   "outputs": [
    {
     "name": "stdout",
     "output_type": "stream",
     "text": [
      "center [00036, 00036]\n",
      "width [00080, 00080]\n",
      "slope 1\n",
      "intercept -1024.0\n",
      "center_2 36.0\n",
      "width_2 80.0\n",
      "slope_2 1.0\n",
      "intercept_2 -1024.0\n"
     ]
    }
   ],
   "source": [
    "# Inspecting attr after 36th samples  in the dataset:\n",
    "\n",
    "import pydicom\n",
    "from pathlib import Path\n",
    "\n",
    "def safe_get_float(value, default):\n",
    "    if isinstance(value, pydicom.multival.MultiValue):\n",
    "        return float(value[0])\n",
    "    try:\n",
    "        return float(value)\n",
    "    except Exception:\n",
    "        return float(default)\n",
    "\n",
    "# --- Paths ---\n",
    "csv_path = \"/home/tibia/Projet_Hemorragie/Classification/RSNA2019_Intracranial-Hemorrhage-Detection/2DNet/data/csv/train_fold0.csv\"\n",
    "dicom_dir = \"/home/tibia/Projet_Hemorragie/Classification/RSNA2019_Intracranial-Hemorrhage-Detection/2DNet/data/rsna-intracranial-hemorrhage-detection/stage_2_train\"\n",
    "\n",
    "import pandas as pd\n",
    "df = pd.read_csv(csv_path)\n",
    "\n",
    "# Sample index\n",
    "i = 47\n",
    "dcm_path = Path(dicom_dir) / df.iloc[i][\"filename\"]\n",
    "dcm = pydicom.dcmread(str(dcm_path))\n",
    "dicom_raw = pydicom.dcmread(str(dcm_path))\n",
    "# Safe attribute reads\n",
    "center = (dicom_raw.WindowCenter)\n",
    "print(\"center\", center)\n",
    "width = (dicom_raw.WindowWidth)\n",
    "print(\"width\", width)\n",
    "slope = (dicom_raw.RescaleSlope)\n",
    "print(\"slope\", slope)\n",
    "intercept = float(dicom_raw.RescaleIntercept)\n",
    "print(\"intercept\", intercept)\n",
    "\n",
    "\n",
    "# Safe attribute reads\n",
    "center_2 = safe_get_float(getattr(dcm, 'WindowCenter', 40), 40)\n",
    "width_2 = safe_get_float(getattr(dcm, 'WindowWidth', 80), 80)\n",
    "slope_2 = safe_get_float(getattr(dcm, 'RescaleSlope', 1), 1)\n",
    "intercept_2 = safe_get_float(getattr(dcm, 'RescaleIntercept', 0), 0)\n",
    "\n",
    "print(\"center_2\", center_2)\n",
    "print(\"width_2\", width_2)\n",
    "print(\"slope_2\", slope_2)\n",
    "print(\"intercept_2\", intercept_2)\n"
   ]
  },
  {
   "cell_type": "code",
   "execution_count": null,
   "metadata": {},
   "outputs": [
    {
     "name": "stdout",
     "output_type": "stream",
     "text": [
      "Using device: cuda\n",
      "Number of Batches in the dataset: 16859\n",
      "répartition des poids : tensor([1., 1., 1., 1., 1., 1.], device='cuda:0')\n"
     ]
    }
   ],
   "source": [
    "import torch\n",
    "import torch.nn as nn\n",
    "from torch.utils.data import DataLoader\n",
    "from monai.networks.nets import densenet121\n",
    "from monai.transforms import Compose, Resize, ToTensor\n",
    "from tqdm import tqdm\n",
    "\n",
    "# === Hyperparams ===\n",
    "NUM_CLASSES = 6\n",
    "BATCH_SIZE = 32\n",
    "EPOCHS = 3\n",
    "LR = 1e-4\n",
    "DEVICE = torch.device(\"cuda\" if torch.cuda.is_available() else \"cpu\")\n",
    "train_loader = DataLoader(train_dataset, batch_size=BATCH_SIZE, shuffle=True, num_workers=4,persistent_workers= True,pin_memory=True)\n",
    "print(f\"Using device: {DEVICE}\")\n",
    "print(f\"Number of Batches in the dataset: {len(train_loader)}\")\n",
    "\n",
    "# === Model ===\n",
    "model = densenet121(spatial_dims=2, in_channels=1, out_channels=NUM_CLASSES)\n",
    "model.to(DEVICE)\n",
    "model.state_dict()\n",
    "# === Loss (inspirée de ton doctorant)\n",
    "\n",
    "pos_weights = torch.tensor([1.0] * NUM_CLASSES, dtype=torch.float).to(DEVICE)\n",
    "print(f\"répartition des poids : {pos_weights}\")\n",
    "loss_fn= nn.BCEWithLogitsLoss(pos_weight=pos_weights)\n",
    "\n",
    "# === Optimizer\n",
    "optimizer = torch.optim.Adam(model.parameters(), lr=LR)"
   ]
  },
  {
   "cell_type": "code",
   "execution_count": 82,
   "metadata": {},
   "outputs": [],
   "source": [
    "from timeit import default_timer as timer\n",
    "def print_train_time(start:float,end:float,device:torch.device=None):\n",
    "    total_time=end-start\n",
    "    print(f\"Train time on {device}: {total_time:.3f} seconds\")\n",
    "    return total_time\n",
    "\n",
    "def compute_accuracy(y_pred, y_true, threshold=0.5):\n",
    "    \"\"\"\n",
    "    Renvoie l'accuracy multilabel (exact match pour chaque label indépendamment).\n",
    "    \"\"\"\n",
    "    preds = torch.sigmoid(y_pred) > threshold\n",
    "    correct = (preds == y_true.bool()).float()\n",
    "    return correct.mean().item()"
   ]
  },
  {
   "cell_type": "code",
   "execution_count": null,
   "metadata": {},
   "outputs": [
    {
     "name": "stderr",
     "output_type": "stream",
     "text": [
      "  0%|          | 0/3 [00:00<?, ?it/s]"
     ]
    },
    {
     "name": "stdout",
     "output_type": "stream",
     "text": [
      "Epoch: 0\n",
      "-------\n",
      "Looked at 0/539469 samples\n",
      "Looked at 32000/539469 samples\n"
     ]
    },
    {
     "name": "stderr",
     "output_type": "stream",
     "text": [
      "  0%|          | 0/3 [06:54<?, ?it/s]\n"
     ]
    },
    {
     "ename": "KeyboardInterrupt",
     "evalue": "",
     "output_type": "error",
     "traceback": [
      "\u001b[31m---------------------------------------------------------------------------\u001b[39m",
      "\u001b[31mKeyboardInterrupt\u001b[39m                         Traceback (most recent call last)",
      "\u001b[36mCell\u001b[39m\u001b[36m \u001b[39m\u001b[32mIn[83]\u001b[39m\u001b[32m, line 15\u001b[39m\n\u001b[32m     12\u001b[39m epoch_loss = \u001b[32m0.0\u001b[39m\n\u001b[32m     13\u001b[39m epoch_acc = \u001b[32m0.0\u001b[39m\n\u001b[32m---> \u001b[39m\u001b[32m15\u001b[39m \u001b[43m\u001b[49m\u001b[38;5;28;43;01mfor\u001b[39;49;00m\u001b[43m \u001b[49m\u001b[43mbatch\u001b[49m\u001b[43m,\u001b[49m\u001b[43m \u001b[49m\u001b[43m(\u001b[49m\u001b[43mX\u001b[49m\u001b[43m,\u001b[49m\u001b[43my\u001b[49m\u001b[43m)\u001b[49m\u001b[43m \u001b[49m\u001b[38;5;129;43;01min\u001b[39;49;00m\u001b[43m \u001b[49m\u001b[38;5;28;43menumerate\u001b[39;49m\u001b[43m(\u001b[49m\u001b[43mtrain_loader\u001b[49m\u001b[43m)\u001b[49m\u001b[43m:\u001b[49m\n\u001b[32m     16\u001b[39m \u001b[43m    \u001b[49m\u001b[43mX\u001b[49m\u001b[43m,\u001b[49m\u001b[43my\u001b[49m\u001b[43m=\u001b[49m\u001b[43mX\u001b[49m\u001b[43m.\u001b[49m\u001b[43mto\u001b[49m\u001b[43m(\u001b[49m\u001b[43mDEVICE\u001b[49m\u001b[43m)\u001b[49m\u001b[43m,\u001b[49m\u001b[43my\u001b[49m\u001b[43m.\u001b[49m\u001b[43mto\u001b[49m\u001b[43m(\u001b[49m\u001b[43mDEVICE\u001b[49m\u001b[43m)\u001b[49m\n\u001b[32m     18\u001b[39m \u001b[43m    \u001b[49m\u001b[38;5;66;43;03m# Forward\u001b[39;49;00m\n",
      "\u001b[36mFile \u001b[39m\u001b[32m~/Projet_Hemorragie/hemorragie-env/lib/python3.12/site-packages/torch/utils/data/dataloader.py:701\u001b[39m, in \u001b[36m_BaseDataLoaderIter.__next__\u001b[39m\u001b[34m(self)\u001b[39m\n\u001b[32m    698\u001b[39m \u001b[38;5;28;01mif\u001b[39;00m \u001b[38;5;28mself\u001b[39m._sampler_iter \u001b[38;5;129;01mis\u001b[39;00m \u001b[38;5;28;01mNone\u001b[39;00m:\n\u001b[32m    699\u001b[39m     \u001b[38;5;66;03m# TODO(https://github.com/pytorch/pytorch/issues/76750)\u001b[39;00m\n\u001b[32m    700\u001b[39m     \u001b[38;5;28mself\u001b[39m._reset()  \u001b[38;5;66;03m# type: ignore[call-arg]\u001b[39;00m\n\u001b[32m--> \u001b[39m\u001b[32m701\u001b[39m data = \u001b[38;5;28;43mself\u001b[39;49m\u001b[43m.\u001b[49m\u001b[43m_next_data\u001b[49m\u001b[43m(\u001b[49m\u001b[43m)\u001b[49m\n\u001b[32m    702\u001b[39m \u001b[38;5;28mself\u001b[39m._num_yielded += \u001b[32m1\u001b[39m\n\u001b[32m    703\u001b[39m \u001b[38;5;28;01mif\u001b[39;00m (\n\u001b[32m    704\u001b[39m     \u001b[38;5;28mself\u001b[39m._dataset_kind == _DatasetKind.Iterable\n\u001b[32m    705\u001b[39m     \u001b[38;5;129;01mand\u001b[39;00m \u001b[38;5;28mself\u001b[39m._IterableDataset_len_called \u001b[38;5;129;01mis\u001b[39;00m \u001b[38;5;129;01mnot\u001b[39;00m \u001b[38;5;28;01mNone\u001b[39;00m\n\u001b[32m    706\u001b[39m     \u001b[38;5;129;01mand\u001b[39;00m \u001b[38;5;28mself\u001b[39m._num_yielded > \u001b[38;5;28mself\u001b[39m._IterableDataset_len_called\n\u001b[32m    707\u001b[39m ):\n",
      "\u001b[36mFile \u001b[39m\u001b[32m~/Projet_Hemorragie/hemorragie-env/lib/python3.12/site-packages/torch/utils/data/dataloader.py:1448\u001b[39m, in \u001b[36m_MultiProcessingDataLoaderIter._next_data\u001b[39m\u001b[34m(self)\u001b[39m\n\u001b[32m   1445\u001b[39m     \u001b[38;5;28;01mreturn\u001b[39;00m \u001b[38;5;28mself\u001b[39m._process_data(data)\n\u001b[32m   1447\u001b[39m \u001b[38;5;28;01massert\u001b[39;00m \u001b[38;5;129;01mnot\u001b[39;00m \u001b[38;5;28mself\u001b[39m._shutdown \u001b[38;5;129;01mand\u001b[39;00m \u001b[38;5;28mself\u001b[39m._tasks_outstanding > \u001b[32m0\u001b[39m\n\u001b[32m-> \u001b[39m\u001b[32m1448\u001b[39m idx, data = \u001b[38;5;28;43mself\u001b[39;49m\u001b[43m.\u001b[49m\u001b[43m_get_data\u001b[49m\u001b[43m(\u001b[49m\u001b[43m)\u001b[49m\n\u001b[32m   1449\u001b[39m \u001b[38;5;28mself\u001b[39m._tasks_outstanding -= \u001b[32m1\u001b[39m\n\u001b[32m   1450\u001b[39m \u001b[38;5;28;01mif\u001b[39;00m \u001b[38;5;28mself\u001b[39m._dataset_kind == _DatasetKind.Iterable:\n\u001b[32m   1451\u001b[39m     \u001b[38;5;66;03m# Check for _IterableDatasetStopIteration\u001b[39;00m\n",
      "\u001b[36mFile \u001b[39m\u001b[32m~/Projet_Hemorragie/hemorragie-env/lib/python3.12/site-packages/torch/utils/data/dataloader.py:1412\u001b[39m, in \u001b[36m_MultiProcessingDataLoaderIter._get_data\u001b[39m\u001b[34m(self)\u001b[39m\n\u001b[32m   1408\u001b[39m     \u001b[38;5;66;03m# In this case, `self._data_queue` is a `queue.Queue`,. But we don't\u001b[39;00m\n\u001b[32m   1409\u001b[39m     \u001b[38;5;66;03m# need to call `.task_done()` because we don't use `.join()`.\u001b[39;00m\n\u001b[32m   1410\u001b[39m \u001b[38;5;28;01melse\u001b[39;00m:\n\u001b[32m   1411\u001b[39m     \u001b[38;5;28;01mwhile\u001b[39;00m \u001b[38;5;28;01mTrue\u001b[39;00m:\n\u001b[32m-> \u001b[39m\u001b[32m1412\u001b[39m         success, data = \u001b[38;5;28;43mself\u001b[39;49m\u001b[43m.\u001b[49m\u001b[43m_try_get_data\u001b[49m\u001b[43m(\u001b[49m\u001b[43m)\u001b[49m\n\u001b[32m   1413\u001b[39m         \u001b[38;5;28;01mif\u001b[39;00m success:\n\u001b[32m   1414\u001b[39m             \u001b[38;5;28;01mreturn\u001b[39;00m data\n",
      "\u001b[36mFile \u001b[39m\u001b[32m~/Projet_Hemorragie/hemorragie-env/lib/python3.12/site-packages/torch/utils/data/dataloader.py:1243\u001b[39m, in \u001b[36m_MultiProcessingDataLoaderIter._try_get_data\u001b[39m\u001b[34m(self, timeout)\u001b[39m\n\u001b[32m   1230\u001b[39m \u001b[38;5;28;01mdef\u001b[39;00m\u001b[38;5;250m \u001b[39m\u001b[34m_try_get_data\u001b[39m(\u001b[38;5;28mself\u001b[39m, timeout=_utils.MP_STATUS_CHECK_INTERVAL):\n\u001b[32m   1231\u001b[39m     \u001b[38;5;66;03m# Tries to fetch data from `self._data_queue` once for a given timeout.\u001b[39;00m\n\u001b[32m   1232\u001b[39m     \u001b[38;5;66;03m# This can also be used as inner loop of fetching without timeout, with\u001b[39;00m\n\u001b[32m   (...)\u001b[39m\u001b[32m   1240\u001b[39m     \u001b[38;5;66;03m# Returns a 2-tuple:\u001b[39;00m\n\u001b[32m   1241\u001b[39m     \u001b[38;5;66;03m#   (bool: whether successfully get data, any: data if successful else None)\u001b[39;00m\n\u001b[32m   1242\u001b[39m     \u001b[38;5;28;01mtry\u001b[39;00m:\n\u001b[32m-> \u001b[39m\u001b[32m1243\u001b[39m         data = \u001b[38;5;28;43mself\u001b[39;49m\u001b[43m.\u001b[49m\u001b[43m_data_queue\u001b[49m\u001b[43m.\u001b[49m\u001b[43mget\u001b[49m\u001b[43m(\u001b[49m\u001b[43mtimeout\u001b[49m\u001b[43m=\u001b[49m\u001b[43mtimeout\u001b[49m\u001b[43m)\u001b[49m\n\u001b[32m   1244\u001b[39m         \u001b[38;5;28;01mreturn\u001b[39;00m (\u001b[38;5;28;01mTrue\u001b[39;00m, data)\n\u001b[32m   1245\u001b[39m     \u001b[38;5;28;01mexcept\u001b[39;00m \u001b[38;5;167;01mException\u001b[39;00m \u001b[38;5;28;01mas\u001b[39;00m e:\n\u001b[32m   1246\u001b[39m         \u001b[38;5;66;03m# At timeout and error, we manually check whether any worker has\u001b[39;00m\n\u001b[32m   1247\u001b[39m         \u001b[38;5;66;03m# failed. Note that this is the only mechanism for Windows to detect\u001b[39;00m\n\u001b[32m   1248\u001b[39m         \u001b[38;5;66;03m# worker failures.\u001b[39;00m\n",
      "\u001b[36mFile \u001b[39m\u001b[32m~/.pyenv/versions/3.12.9/lib/python3.12/multiprocessing/queues.py:113\u001b[39m, in \u001b[36mQueue.get\u001b[39m\u001b[34m(self, block, timeout)\u001b[39m\n\u001b[32m    111\u001b[39m \u001b[38;5;28;01mif\u001b[39;00m block:\n\u001b[32m    112\u001b[39m     timeout = deadline - time.monotonic()\n\u001b[32m--> \u001b[39m\u001b[32m113\u001b[39m     \u001b[38;5;28;01mif\u001b[39;00m \u001b[38;5;129;01mnot\u001b[39;00m \u001b[38;5;28;43mself\u001b[39;49m\u001b[43m.\u001b[49m\u001b[43m_poll\u001b[49m\u001b[43m(\u001b[49m\u001b[43mtimeout\u001b[49m\u001b[43m)\u001b[49m:\n\u001b[32m    114\u001b[39m         \u001b[38;5;28;01mraise\u001b[39;00m Empty\n\u001b[32m    115\u001b[39m \u001b[38;5;28;01melif\u001b[39;00m \u001b[38;5;129;01mnot\u001b[39;00m \u001b[38;5;28mself\u001b[39m._poll():\n",
      "\u001b[36mFile \u001b[39m\u001b[32m~/.pyenv/versions/3.12.9/lib/python3.12/multiprocessing/connection.py:257\u001b[39m, in \u001b[36m_ConnectionBase.poll\u001b[39m\u001b[34m(self, timeout)\u001b[39m\n\u001b[32m    255\u001b[39m \u001b[38;5;28mself\u001b[39m._check_closed()\n\u001b[32m    256\u001b[39m \u001b[38;5;28mself\u001b[39m._check_readable()\n\u001b[32m--> \u001b[39m\u001b[32m257\u001b[39m \u001b[38;5;28;01mreturn\u001b[39;00m \u001b[38;5;28;43mself\u001b[39;49m\u001b[43m.\u001b[49m\u001b[43m_poll\u001b[49m\u001b[43m(\u001b[49m\u001b[43mtimeout\u001b[49m\u001b[43m)\u001b[49m\n",
      "\u001b[36mFile \u001b[39m\u001b[32m~/.pyenv/versions/3.12.9/lib/python3.12/multiprocessing/connection.py:440\u001b[39m, in \u001b[36mConnection._poll\u001b[39m\u001b[34m(self, timeout)\u001b[39m\n\u001b[32m    439\u001b[39m \u001b[38;5;28;01mdef\u001b[39;00m\u001b[38;5;250m \u001b[39m\u001b[34m_poll\u001b[39m(\u001b[38;5;28mself\u001b[39m, timeout):\n\u001b[32m--> \u001b[39m\u001b[32m440\u001b[39m     r = \u001b[43mwait\u001b[49m\u001b[43m(\u001b[49m\u001b[43m[\u001b[49m\u001b[38;5;28;43mself\u001b[39;49m\u001b[43m]\u001b[49m\u001b[43m,\u001b[49m\u001b[43m \u001b[49m\u001b[43mtimeout\u001b[49m\u001b[43m)\u001b[49m\n\u001b[32m    441\u001b[39m     \u001b[38;5;28;01mreturn\u001b[39;00m \u001b[38;5;28mbool\u001b[39m(r)\n",
      "\u001b[36mFile \u001b[39m\u001b[32m~/.pyenv/versions/3.12.9/lib/python3.12/multiprocessing/connection.py:1136\u001b[39m, in \u001b[36mwait\u001b[39m\u001b[34m(object_list, timeout)\u001b[39m\n\u001b[32m   1133\u001b[39m     deadline = time.monotonic() + timeout\n\u001b[32m   1135\u001b[39m \u001b[38;5;28;01mwhile\u001b[39;00m \u001b[38;5;28;01mTrue\u001b[39;00m:\n\u001b[32m-> \u001b[39m\u001b[32m1136\u001b[39m     ready = \u001b[43mselector\u001b[49m\u001b[43m.\u001b[49m\u001b[43mselect\u001b[49m\u001b[43m(\u001b[49m\u001b[43mtimeout\u001b[49m\u001b[43m)\u001b[49m\n\u001b[32m   1137\u001b[39m     \u001b[38;5;28;01mif\u001b[39;00m ready:\n\u001b[32m   1138\u001b[39m         \u001b[38;5;28;01mreturn\u001b[39;00m [key.fileobj \u001b[38;5;28;01mfor\u001b[39;00m (key, events) \u001b[38;5;129;01min\u001b[39;00m ready]\n",
      "\u001b[36mFile \u001b[39m\u001b[32m~/.pyenv/versions/3.12.9/lib/python3.12/selectors.py:415\u001b[39m, in \u001b[36m_PollLikeSelector.select\u001b[39m\u001b[34m(self, timeout)\u001b[39m\n\u001b[32m    413\u001b[39m ready = []\n\u001b[32m    414\u001b[39m \u001b[38;5;28;01mtry\u001b[39;00m:\n\u001b[32m--> \u001b[39m\u001b[32m415\u001b[39m     fd_event_list = \u001b[38;5;28;43mself\u001b[39;49m\u001b[43m.\u001b[49m\u001b[43m_selector\u001b[49m\u001b[43m.\u001b[49m\u001b[43mpoll\u001b[49m\u001b[43m(\u001b[49m\u001b[43mtimeout\u001b[49m\u001b[43m)\u001b[49m\n\u001b[32m    416\u001b[39m \u001b[38;5;28;01mexcept\u001b[39;00m \u001b[38;5;167;01mInterruptedError\u001b[39;00m:\n\u001b[32m    417\u001b[39m     \u001b[38;5;28;01mreturn\u001b[39;00m ready\n",
      "\u001b[31mKeyboardInterrupt\u001b[39m: "
     ]
    },
    {
     "ename": "",
     "evalue": "",
     "output_type": "error",
     "traceback": [
      "\u001b[1;31mThe Kernel crashed while executing code in the current cell or a previous cell. \n",
      "\u001b[1;31mPlease review the code in the cell(s) to identify a possible cause of the failure. \n",
      "\u001b[1;31mClick <a href='https://aka.ms/vscodeJupyterKernelCrash'>here</a> for more info. \n",
      "\u001b[1;31mView Jupyter <a href='command:jupyter.viewOutput'>log</a> for further details."
     ]
    }
   ],
   "source": [
    "# === Training Loop ===\n",
    "from tqdm import tqdm\n",
    "\n",
    "torch.manual_seed(42)\n",
    "torch.cuda.manual_seed(42)\n",
    "\n",
    "start_time = timer()\n",
    "\n",
    "for epoch in tqdm(range(EPOCHS)):\n",
    "    print(f\"Epoch: {epoch}\\n-------\")\n",
    "    model.train()\n",
    "    epoch_loss = 0.0\n",
    "    epoch_acc = 0.0\n",
    "\n",
    "    for batch, (X,y) in enumerate(train_loader):\n",
    "        X,y=X.to(DEVICE),y.to(DEVICE)\n",
    "        \n",
    "        # Forward\n",
    "        y_pred = model(X)\n",
    "        #Calculate loss per batch \n",
    "        loss = loss_fn(y_pred, y)\n",
    "        epoch_loss += loss\n",
    "        acc = compute_accuracy(y_pred, y)\n",
    "        if batch % 1000 == 0:\n",
    "            print(f\"Looked at {batch * len(X)}/{len(train_loader.dataset)} samples\")\n",
    "\n",
    "        # Backward\n",
    "        optimizer.zero_grad()\n",
    "        loss.backward()\n",
    "        optimizer.step()\n",
    "\n",
    "        epoch_loss += loss.item()\n",
    "        epoch_acc += acc\n",
    "\n",
    "    avg_loss = epoch_loss / len(train_loader)\n",
    "    avg_acc = epoch_acc / len(train_loader)\n",
    "    print(f\"Epoch {epoch+1}: Loss={avg_loss:.4f}, Accuracy={avg_acc:.4f}\")\n",
    "\n",
    "end_time = timer()\n",
    "total_train_time = print_train_time(start_time, end_time, DEVICE)"
   ]
  },
  {
   "cell_type": "code",
   "execution_count": null,
   "metadata": {},
   "outputs": [],
   "source": [
    "  ## Testing\n",
    "# --- Paths ---\n",
    "csv_path = \"/home/tibia/Projet_Hemorragie/Classification/RSNA2019_Intracranial-Hemorrhage-Detection/2DNet/data/csv/val_fold0.csv\"\n",
    "dicom_dir = \"/home/tibia/Projet_Hemorragie/Classification/RSNA2019_Intracranial-Hemorrhage-Detection/2DNet/data/rsna-intracranial-hemorrhage-detection/stage_2_train\"\n",
    "\n",
    "\n",
    "\n",
    "test_loss,test_acc=0,0\n",
    "model.eval()\n",
    "with torch.inference_mode():\n",
    "    for X_test,y_test in test_dataloader:\n",
    "        # Forward\n",
    "      test_pred=model_0(X_test)\n",
    "          # Calculate loss\n",
    "      test_loss += loss_fn(test_pred,y_test)\n",
    "          # Accuracy\n",
    "      test_acc += accuracy_fn(y_true=y_test,y_pred=test_pred.argmax(dim=1))\n",
    "\n",
    "    test_loss /= len(test_dataloader)\n",
    "\n",
    "    test_acc /= len(test_dataloader)\n",
    "\n",
    "  print(f\"Train loss: {train_loss:.5f} | Test loss: {test_loss:.5f} | Test acc: {test_acc:.4f}\")"
   ]
  },
  {
   "cell_type": "code",
   "execution_count": null,
   "metadata": {},
   "outputs": [],
   "source": []
  }
 ],
 "metadata": {
  "kernelspec": {
   "display_name": "hemorragie-env",
   "language": "python",
   "name": "python3"
  },
  "language_info": {
   "codemirror_mode": {
    "name": "ipython",
    "version": 3
   },
   "file_extension": ".py",
   "mimetype": "text/x-python",
   "name": "python",
   "nbconvert_exporter": "python",
   "pygments_lexer": "ipython3",
   "version": "3.12.9"
  }
 },
 "nbformat": 4,
 "nbformat_minor": 2
}
