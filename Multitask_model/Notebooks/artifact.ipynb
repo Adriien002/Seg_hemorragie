{
 "cells": [
  {
   "cell_type": "markdown",
   "metadata": {},
   "source": [
    "## XP "
   ]
  },
  {
   "cell_type": "code",
   "execution_count": null,
   "metadata": {},
   "outputs": [
    {
     "name": "stderr",
     "output_type": "stream",
     "text": [
      "/home/tibia/Projet_Hemorragie/hemorragie-env/lib/python3.12/site-packages/tqdm/auto.py:21: TqdmWarning: IProgress not found. Please update jupyter and ipywidgets. See https://ipywidgets.readthedocs.io/en/stable/user_install.html\n",
      "  from .autonotebook import tqdm as notebook_tqdm\n"
     ]
    }
   ],
   "source": [
    "import sys\n",
    "from pathlib import Path\n",
    "\n",
    "# Ajoute le dossier racine du projet dans le PYTHONPATH\n",
    "project_root = Path(\"/home/tibia/Projet_Hemorragie/Seg_hemorragie/Multitask_model\")\n",
    "sys.path.append(str(project_root))\n",
    "\n",
    "import data.dataset as dataset\n",
    "import data.transform as T_mtsk\n",
    "\n",
    "# Import depuis models/\n",
    "from models.architecture import BasicUNetWithClassification\n",
    "from models.lightning_module import MultiTaskHemorrhageModule, MultiTaskHemorrhageModule_homeo, MultiTaskHemorrhageModule_gradnorm\n",
    "\n",
    "import utils\n"
   ]
  },
  {
   "cell_type": "code",
   "execution_count": null,
   "metadata": {},
   "outputs": [],
   "source": [
    "import wandb\n",
    "import torch\n",
    "\n",
    "\n",
    "def load():    \n",
    "    train_data=dataset.get_balanced_multitask_dataset('train')\n",
    "    val_data=dataset.get_balanced_multitask_dataset('val')\n",
    "    return train_data, val_data"
   ]
  },
  {
   "cell_type": "code",
   "execution_count": null,
   "metadata": {},
   "outputs": [],
   "source": [
    "def load_and_log():\n",
    "    # 🚀 start a run, with a type to label it and a project it can call home\n",
    "    with wandb.init(project=\"artifacts-v0\", job_type=\"load-data_pos\") as run:\n",
    "            \n",
    "        datasets = load()  # separate code for loading the datasets\n",
    "        \n",
    "        names = [\"training\", \"validation\"]\n",
    "            # 🏺 create our Artifact\n",
    "        raw_data = wandb.Artifact(\n",
    "            \"hemorrhage-multitask-raw\",\n",
    "            type=\"dataset\",\n",
    "            description=\"Dataset multitâche Hémorragie (positifs uniquement)\"\n",
    "        )\n",
    "\n",
    "        for name, data in zip(names, datasets):\n",
    "                # 🐣 Store a new file in the artifact, and write something into its contents.\n",
    "                with raw_data.new_file(name + \".pt\", mode=\"wb\") as file:\n",
    "                    x, y = data.tensors\n",
    "                    torch.save((x, y), file)\n",
    "\n",
    "            # ✍️ Save the artifact to W&B.\n",
    "        run.log_artifact(raw_data)\n",
    "\n",
    "load_and_log()"
   ]
  }
 ],
 "metadata": {
  "kernelspec": {
   "display_name": "hemorragie-env",
   "language": "python",
   "name": "python3"
  },
  "language_info": {
   "codemirror_mode": {
    "name": "ipython",
    "version": 3
   },
   "file_extension": ".py",
   "mimetype": "text/x-python",
   "name": "python",
   "nbconvert_exporter": "python",
   "pygments_lexer": "ipython3",
   "version": "3.12.9"
  }
 },
 "nbformat": 4,
 "nbformat_minor": 2
}
